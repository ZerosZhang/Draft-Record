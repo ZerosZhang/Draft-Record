{
 "cells": [
  {
   "cell_type": "code",
   "execution_count": 2,
   "metadata": {
    "dotnet_interactive": {
     "language": "csharp"
    },
    "polyglot_notebook": {
     "kernelName": "csharp"
    },
    "vscode": {
     "languageId": "polyglot-notebook"
    }
   },
   "outputs": [
    {
     "name": "stdout",
     "output_type": "stream",
     "text": [
      "Hello World\n",
      "www\n"
     ]
    }
   ],
   "source": [
    "Console.WriteLine(\"Hello World\");\n",
    "\n",
    "Console.WriteLine(\"www\");"
   ]
  },
  {
   "cell_type": "code",
   "execution_count": 2,
   "metadata": {
    "dotnet_interactive": {
     "language": "csharp"
    },
    "polyglot_notebook": {
     "kernelName": "csharp"
    },
    "vscode": {
     "languageId": "polyglot-notebook"
    }
   },
   "outputs": [
    {
     "name": "stdout",
     "output_type": "stream",
     "text": [
      "0:数量68\n",
      "1:数量47\n",
      "0-1-2-3-4-5-6-7-8-9-10-11-12-13-14-15-16-34-17-18-19-20-21-22-23-24-25-26-27-28-29-30-31-54-55-56-57-58-59-60-61-62-63-64-65-66-67\n",
      "2:数量68\n",
      "3:数量66\n",
      "34-35-36-37-38-39-40-41-42-43-44-45-46-47-48-49-50-51-52-53-54-55-56-57-58-59-60-61-62-63-64-65-66-1-67-3-4-5-6-7-8-9-10-11-12-13-14-15-16-17-18-19-20-21-22-23-24-25-26-27-28-29-30-31-32-33\n",
      "4:数量51\n",
      "0-1-2-3-4-5-6-7-8-9-10-11-12-13-14-15-16-17-18-19-20-21-22-23-24-25-26-27-28-29-30-31-32-33-----55-56-57-58-59-60-61-62-63-64-65-66-67\n",
      "5:数量68\n",
      "6:数量68\n",
      "7:数量68\n"
     ]
    },
    {
     "ename": "Error",
     "evalue": "Command cancelled.",
     "output_type": "error",
     "traceback": [
      "Command cancelled."
     ]
    }
   ],
   "source": [
    "    using System.Threading;\n",
    "    using System.IO;\n",
    "\n",
    "    \n",
    "    int _tous = 0;\n",
    "    while (true)\n",
    "    {\n",
    "        List<string> list = new List<string>();\n",
    "        int _count = 34;\n",
    "        Task _task1 = Task.Run(() =>\n",
    "        {\n",
    "            for (int i = 0; i < _count; i++)\n",
    "            {\n",
    "                list.Add(i.ToString());\n",
    "            }\n",
    "        });\n",
    "\n",
    "        Task _task2 = Task.Run(() =>\n",
    "        {\n",
    "            for (int i = _count; i < 2 * _count; i++)\n",
    "            {\n",
    "                list.Add(i.ToString());\n",
    "            }\n",
    "        });\n",
    "\n",
    "        Task.WaitAll(_task1, _task2);\n",
    "\n",
    "        Console.WriteLine($\"{_tous++}:数量{list.Count}\");\n",
    "        if (list.Count != 68)\n",
    "        {\n",
    "            Console.WriteLine(string.Join('-',list));\n",
    "        }\n",
    "        Thread.Sleep(2000);\n",
    "    }"
   ]
  }
 ],
 "metadata": {
  "language_info": {
   "name": "csharp"
  }
 },
 "nbformat": 4,
 "nbformat_minor": 2
}
