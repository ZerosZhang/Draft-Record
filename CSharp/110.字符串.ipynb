{
 "cells": [
  {
   "cell_type": "code",
   "execution_count": 1,
   "metadata": {
    "dotnet_interactive": {
     "language": "csharp"
    },
    "polyglot_notebook": {
     "kernelName": "csharp"
    },
    "vscode": {
     "languageId": "polyglot-notebook"
    }
   },
   "outputs": [],
   "source": [
    "#load \"LoadBaseToolWPF.csx\"\n",
    "using BaseTool;"
   ]
  },
  {
   "cell_type": "markdown",
   "metadata": {},
   "source": [
    "## Environment.NewLine\n"
   ]
  },
  {
   "cell_type": "markdown",
   "metadata": {},
   "source": [
    "`Environment.NewLine`可以去除字符串开头的`\\n`\n"
   ]
  },
  {
   "cell_type": "code",
   "execution_count": 2,
   "metadata": {
    "dotnet_interactive": {
     "language": "csharp"
    },
    "polyglot_notebook": {
     "kernelName": "csharp"
    },
    "vscode": {
     "languageId": "polyglot-notebook"
    }
   },
   "outputs": [
    {
     "name": "stdout",
     "output_type": "stream",
     "text": [
      "\n",
      "12345\n",
      "12345\n"
     ]
    }
   ],
   "source": [
    "string _str1 = \"\\n12345\";\n",
    "string _str11 = _str1.TrimStart(Environment.NewLine.ToCharArray());\n",
    "_str1.Dump();\n",
    "_str11.Dump();"
   ]
  },
  {
   "cell_type": "markdown",
   "metadata": {},
   "source": [
    "`Environment.NewLine`可以去除字符串开头的`\\r`\n",
    "\n",
    "> 这里我不确定，因为`\\r`好像原来就没显示\n"
   ]
  },
  {
   "cell_type": "code",
   "execution_count": 3,
   "metadata": {
    "dotnet_interactive": {
     "language": "csharp"
    },
    "polyglot_notebook": {
     "kernelName": "csharp"
    },
    "vscode": {
     "languageId": "polyglot-notebook"
    }
   },
   "outputs": [
    {
     "name": "stdout",
     "output_type": "stream",
     "text": [
      "12345\n",
      "12345\n"
     ]
    }
   ],
   "source": [
    "string _str2 = \"\\r12345\";\n",
    "string _str22 = _str2.TrimStart(Environment.NewLine.ToCharArray());\n",
    "_str2.Dump();\n",
    "_str22.Dump();"
   ]
  },
  {
   "cell_type": "markdown",
   "metadata": {},
   "source": [
    "`Environment.NewLine`可以去除字符串开头的`\\r\\n`\n"
   ]
  },
  {
   "cell_type": "code",
   "execution_count": 4,
   "metadata": {
    "dotnet_interactive": {
     "language": "csharp"
    },
    "polyglot_notebook": {
     "kernelName": "csharp"
    },
    "vscode": {
     "languageId": "polyglot-notebook"
    }
   },
   "outputs": [
    {
     "name": "stdout",
     "output_type": "stream",
     "text": [
      "\n",
      "12345\n",
      "12345\n"
     ]
    }
   ],
   "source": [
    "string _str3 = \"\\r\\n12345\";\n",
    "string _str33 = _str3.TrimStart(Environment.NewLine.ToCharArray());\n",
    "_str3.Dump();\n",
    "_str33.Dump();"
   ]
  },
  {
   "cell_type": "markdown",
   "metadata": {},
   "source": [
    "字符串中间的`\\r\\n`不行\n"
   ]
  },
  {
   "cell_type": "code",
   "execution_count": 5,
   "metadata": {
    "dotnet_interactive": {
     "language": "csharp"
    },
    "polyglot_notebook": {
     "kernelName": "csharp"
    },
    "vscode": {
     "languageId": "polyglot-notebook"
    }
   },
   "outputs": [
    {
     "name": "stdout",
     "output_type": "stream",
     "text": [
      "123\n",
      "45\n",
      "123\n",
      "45\n"
     ]
    }
   ],
   "source": [
    "string _str4 = \"123\\r\\n45\";\n",
    "string _str44 = _str4.Trim(Environment.NewLine.ToCharArray());\n",
    "\n",
    "_str4.Dump();\n",
    "_str44.Dump();"
   ]
  },
  {
   "cell_type": "code",
   "execution_count": 11,
   "metadata": {
    "dotnet_interactive": {
     "language": "csharp"
    },
    "polyglot_notebook": {
     "kernelName": "csharp"
    },
    "vscode": {
     "languageId": "polyglot-notebook"
    }
   },
   "outputs": [
    {
     "name": "stdout",
     "output_type": "stream",
     "text": [
      "6\n",
      "4\n"
     ]
    }
   ],
   "source": [
    "string[] _string_array_1 = \"00  11  22 33\".Split(' ');\n",
    "string[] _string_array_2 = \"00  11  22 33\".Split(' ', StringSplitOptions.RemoveEmptyEntries);\n",
    "_string_array_1.Length.Dump();\n",
    "_string_array_2.Length.Dump();"
   ]
  },
  {
   "cell_type": "code",
   "execution_count": null,
   "metadata": {
    "dotnet_interactive": {
     "language": "csharp"
    },
    "polyglot_notebook": {
     "kernelName": "csharp"
    },
    "vscode": {
     "languageId": "polyglot-notebook"
    }
   },
   "outputs": [],
   "source": [
    "string _str1 = \"\";\n",
    "\n",
    "string.IsNullOrEmpty(_str1).Display();\n",
    "string.IsNullOrWhiteSpace(_str1).Display();"
   ]
  },
  {
   "cell_type": "code",
   "execution_count": null,
   "metadata": {
    "dotnet_interactive": {
     "language": "csharp"
    },
    "polyglot_notebook": {
     "kernelName": "csharp"
    },
    "vscode": {
     "languageId": "polyglot-notebook"
    }
   },
   "outputs": [],
   "source": [
    "string _str1 = \"\\0\";\n",
    "\n",
    "string.IsNullOrEmpty(_str1).Display();\n",
    "string.IsNullOrWhiteSpace(_str1).Display();"
   ]
  },
  {
   "cell_type": "code",
   "execution_count": null,
   "metadata": {
    "dotnet_interactive": {
     "language": "csharp"
    },
    "polyglot_notebook": {
     "kernelName": "csharp"
    },
    "vscode": {
     "languageId": "polyglot-notebook"
    }
   },
   "outputs": [],
   "source": [
    "string _str1 = \"\\r\";\n",
    "\n",
    "string.IsNullOrEmpty(_str1).Display();\n",
    "string.IsNullOrWhiteSpace(_str1).Display();"
   ]
  },
  {
   "cell_type": "code",
   "execution_count": null,
   "metadata": {
    "dotnet_interactive": {
     "language": "csharp"
    },
    "polyglot_notebook": {
     "kernelName": "csharp"
    },
    "vscode": {
     "languageId": "polyglot-notebook"
    }
   },
   "outputs": [],
   "source": [
    "string _str1 = \"\\n\";\n",
    "\n",
    "string.IsNullOrEmpty(_str1).Display();\n",
    "string.IsNullOrWhiteSpace(_str1).Display();"
   ]
  },
  {
   "cell_type": "code",
   "execution_count": null,
   "metadata": {
    "dotnet_interactive": {
     "language": "csharp"
    },
    "polyglot_notebook": {
     "kernelName": "csharp"
    },
    "vscode": {
     "languageId": "polyglot-notebook"
    }
   },
   "outputs": [],
   "source": [
    "string _str1 = \"\\r\\n\";\n",
    "\n",
    "string.IsNullOrEmpty(_str1).Display();\n",
    "string.IsNullOrWhiteSpace(_str1).Display();"
   ]
  },
  {
   "cell_type": "markdown",
   "metadata": {},
   "source": [
    "`string.IsNullOrWhiteSpace()` 方法在以下情况下会返回 `true`：\n",
    "\n",
    "1. **字符串为 `null`**：如果传入的字符串引用是 `null`，则返回 `true`。\n",
    "2. **字符串为空**：如果字符串是空字符串 `\"\"`，即没有任何字符，返回 `true`。\n",
    "3. **字符串只包含空白字符**：如果字符串只包含一个或多个空白字符，例如空格、制表符 (`\\t`)、换行符 (`\\n`)、回车符 (`\\r`)、垂直制表符 (`\\v`) 或者任何其他 Unicode 空白字符，返回 `true`。\n",
    "\n",
    "以下是一些示例，展示了 `string.IsNullOrWhiteSpace()` 方法会返回 `true` 的情况：\n",
    "\n",
    "```csharp\n",
    "string str1 = null;           // true, 因为 str1 是 null\n",
    "string str2 = \"\";            // true, 因为 str2 是空字符串\n",
    "string str3 = \" \";           // true, 因为 str3 只包含一个空格\n",
    "string str4 = \"\\t\\n\\r\\v\";     // true, 因为 str4 只包含制表符、换行符、回车符和垂直制表符\n",
    "string str5 = \"   \";         // true, 因为 str5 只包含空格\n",
    "string str6 = \"　\";          // true, 因为 str6 包含全角空格（Unicode 空白字符）\n",
    "```\n",
    "\n",
    "相反，如果字符串包含至少一个非空白字符，即使它包含其他空白字符，`string.IsNullOrWhiteSpace()` 也会返回 `false`：\n",
    "\n",
    "```csharp\n",
    "string str7 = \"a\";          // false, 因为 str7 包含一个非空白字符 'a'\n",
    "string str8 = \" a \";        // false, 因为 str8 包含一个非空白字符 'a'，尽管它也有空格\n",
    "```\n",
    "\n",
    "这个方法通常用于验证输入字符串，确保它们既不是 `null` 也不是无效的空白字符串，从而避免在处理字符串时出现错误。\n"
   ]
  }
 ],
 "metadata": {
  "kernelspec": {
   "display_name": ".NET (C#)",
   "language": "C#",
   "name": ".net-csharp"
  },
  "language_info": {
   "name": "python"
  },
  "polyglot_notebook": {
   "kernelInfo": {
    "defaultKernelName": "csharp",
    "items": [
     {
      "aliases": [],
      "name": "csharp"
     }
    ]
   }
  }
 },
 "nbformat": 4,
 "nbformat_minor": 2
}
