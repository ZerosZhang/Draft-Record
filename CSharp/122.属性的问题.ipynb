{
 "cells": [
  {
   "cell_type": "code",
   "execution_count": 7,
   "metadata": {
    "dotnet_interactive": {
     "language": "csharp"
    },
    "polyglot_notebook": {
     "kernelName": "csharp"
    }
   },
   "outputs": [],
   "source": [
    "public class Tool\n",
    "{\n",
    "    public bool state = false;\n",
    "    public void Connect() =>  state = true;\n",
    "}"
   ]
  },
  {
   "cell_type": "code",
   "execution_count": 10,
   "metadata": {
    "dotnet_interactive": {
     "language": "csharp"
    },
    "polyglot_notebook": {
     "kernelName": "csharp"
    }
   },
   "outputs": [],
   "source": [
    "public class Station \n",
    "{\n",
    "    public Tool _tool_01 {get;} = new Tool();\n",
    "    public Tool[] ToolsList => [_tool_01];\n",
    "    public void Connect() => ToolsList[0].Connect();\n",
    "}\n",
    "\n",
    "Station _station = new Station();\n",
    "_station.Connect();\n",
    "_station._tool_01.state.Display();"
   ]
  },
  {
   "cell_type": "code",
   "execution_count": 11,
   "metadata": {
    "dotnet_interactive": {
     "language": "csharp"
    },
    "polyglot_notebook": {
     "kernelName": "csharp"
    }
   },
   "outputs": [],
   "source": [
    "public class Station \n",
    "{\n",
    "    public Tool _tool_01 => new Tool();\n",
    "    public Tool[] ToolsList => [_tool_01];\n",
    "    public void Connect() => ToolsList[0].Connect();\n",
    "}\n",
    "\n",
    "Station _station = new Station();\n",
    "_station.Connect();\n",
    "_station._tool_01.state.Display();"
   ]
  }
 ],
 "metadata": {
  "kernelspec": {
   "display_name": ".NET (C#)",
   "language": "C#",
   "name": ".net-csharp"
  },
  "polyglot_notebook": {
   "kernelInfo": {
    "defaultKernelName": "csharp",
    "items": [
     {
      "aliases": [],
      "languageName": "csharp",
      "name": "csharp"
     }
    ]
   }
  }
 },
 "nbformat": 4,
 "nbformat_minor": 2
}
