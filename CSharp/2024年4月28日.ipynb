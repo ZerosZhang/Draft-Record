{
 "cells": [
  {
   "cell_type": "code",
   "execution_count": 2,
   "metadata": {
    "dotnet_interactive": {
     "language": "csharp"
    },
    "polyglot_notebook": {
     "kernelName": "csharp"
    },
    "vscode": {
     "languageId": "polyglot-notebook"
    }
   },
   "outputs": [],
   "source": [
    "#load \"LoadBaseToolWPF.csx\"\n",
    "\n",
    "using BaseTool;"
   ]
  },
  {
   "cell_type": "code",
   "execution_count": 14,
   "metadata": {
    "dotnet_interactive": {
     "language": "csharp"
    },
    "polyglot_notebook": {
     "kernelName": "csharp"
    },
    "vscode": {
     "languageId": "polyglot-notebook"
    }
   },
   "outputs": [
    {
     "name": "stdout",
     "output_type": "stream",
     "text": [
      "Socket数据接收缓冲区大小：65536\n",
      "2024年04月28日 15:23:02  Debug\n",
      "----Message：格式输出 byte 数组\n",
      "----|  DEC |  HEX |       Bin |\n",
      "----| ---- | ---- | --------- |\n",
      "----|  104 |   68 | 0110-1000 |\n",
      "----|  116 |   74 | 0111-0100 |\n"
     ]
    }
   ],
   "source": [
    "using System.Net;\n",
    "using System.Net.Sockets;\n",
    "\n",
    "Socket _socket  = new Socket(AddressFamily.InterNetwork, SocketType.Stream, ProtocolType.Tcp);\n",
    "_socket.Connect(IPAddress.Parse(\"127.0.0.1\"), 5000);\n",
    "$\"Socket数据接收缓冲区大小：{_socket.ReceiveBufferSize}\".Dump();\n",
    "\n",
    "Task.Delay(10000).Wait();\n",
    "\n",
    "byte[] _byte_array = new byte[2];\n",
    "int _length = _socket.Receive(_byte_array);\n",
    "BaseTransform.FormatShowArray(_byte_array[0.._length]);"
   ]
  }
 ],
 "metadata": {
  "language_info": {
   "name": "csharp"
  }
 },
 "nbformat": 4,
 "nbformat_minor": 2
}
