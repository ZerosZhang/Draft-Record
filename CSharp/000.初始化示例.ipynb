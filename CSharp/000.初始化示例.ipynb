{
 "cells": [
  {
   "cell_type": "markdown",
   "metadata": {},
   "source": [
    "## Hello World\n"
   ]
  },
  {
   "cell_type": "code",
   "execution_count": 1,
   "metadata": {
    "dotnet_interactive": {
     "language": "csharp"
    },
    "polyglot_notebook": {
     "kernelName": "csharp"
    },
    "vscode": {
     "languageId": "polyglot-notebook"
    }
   },
   "outputs": [
    {
     "name": "stdout",
     "output_type": "stream",
     "text": [
      "Hello World\r\n"
     ]
    }
   ],
   "source": [
    "Console.WriteLine(\"Hello World\");"
   ]
  },
  {
   "cell_type": "markdown",
   "metadata": {},
   "source": [
    "简单日志\n"
   ]
  },
  {
   "cell_type": "code",
   "execution_count": 2,
   "metadata": {
    "dotnet_interactive": {
     "language": "csharp"
    },
    "polyglot_notebook": {
     "kernelName": "csharp"
    },
    "vscode": {
     "languageId": "polyglot-notebook"
    }
   },
   "outputs": [
    {
     "name": "stdout",
     "output_type": "stream",
     "text": [
      "2024年06月19日 12:45:39  Debug\n",
      "----Message：【单元测试】调试日志\n",
      "2024年06月19日 12:45:39  Info\n",
      "----Message：【单元测试】信息日志\n",
      "2024年06月19日 12:45:39  Warning\n",
      "----Message：【单元测试】报警日志\n",
      "2024年06月19日 12:45:39  Error\n",
      "----Message：【单元测试】错误日志\n",
      "----异常调用函数: MoveNext\n"
     ]
    }
   ],
   "source": [
    "#load \"LoadBaseToolWPF.csx\"\n",
    "using BaseTool;\n",
    "\n",
    "BaseLogManager.SendLog(LogLevel.Debug, \"【单元测试】调试日志\", \"\", true);\n",
    "BaseLogManager.SendLog(LogLevel.Info, \"【单元测试】信息日志\", \"\", true);\n",
    "BaseLogManager.SendLog(LogLevel.Warning, \"【单元测试】报警日志\", \"\", true);\n",
    "BaseLogManager.SendLog(LogLevel.Error, \"【单元测试】错误日志\", \"\", true);"
   ]
  },
  {
   "cell_type": "markdown",
   "metadata": {},
   "source": [
    "保存日志到本地\n"
   ]
  },
  {
   "cell_type": "code",
   "execution_count": 4,
   "metadata": {
    "dotnet_interactive": {
     "language": "csharp"
    },
    "polyglot_notebook": {
     "kernelName": "csharp"
    },
    "vscode": {
     "languageId": "polyglot-notebook"
    }
   },
   "outputs": [
    {
     "name": "stdout",
     "output_type": "stream",
     "text": [
      "2024年06月19日 12:45:55  Info\n",
      "----Message：删除c:\\Users\\zeros\\Documents\\【项目文件夹】\\【常用】草稿文档\\CSharp\\SaveLog目录下30天前的数据\n",
      "----删除0个子文件夹，3个子文件\n",
      "2024年06月19日 12:45:55  Debug\n",
      "----Message：【单元测试】调试日志\n",
      "2024年06月19日 12:45:55  Info\n",
      "----Message：【单元测试】信息日志\n",
      "2024年06月19日 12:45:55  Warning\n",
      "----Message：【单元测试】报警日志\n",
      "2024年06月19日 12:45:55  Error\n",
      "----Message：【单元测试】错误日志\n",
      "----异常调用函数: MoveNext\n"
     ]
    }
   ],
   "source": [
    "BaseDefine.DirectoryPathOnSaveLog = \"./SaveLog\";\n",
    "BaseLogManager.Register_SaveLogToFile();\n",
    "\n",
    "BaseLogManager.SendLog(LogLevel.Debug, \"【单元测试】调试日志\", \"\", true);\n",
    "BaseLogManager.SendLog(LogLevel.Info, \"【单元测试】信息日志\", \"\", true);\n",
    "BaseLogManager.SendLog(LogLevel.Warning, \"【单元测试】报警日志\", \"\", true);\n",
    "BaseLogManager.SendLog(LogLevel.Error, \"【单元测试】错误日志\", \"\", true);"
   ]
  },
  {
   "cell_type": "markdown",
   "metadata": {},
   "source": [
    "保存日志到数据库\n"
   ]
  },
  {
   "cell_type": "code",
   "execution_count": 6,
   "metadata": {
    "dotnet_interactive": {
     "language": "csharp"
    },
    "polyglot_notebook": {
     "kernelName": "csharp"
    },
    "vscode": {
     "languageId": "polyglot-notebook"
    }
   },
   "outputs": [
    {
     "name": "stdout",
     "output_type": "stream",
     "text": [
      "2024年06月19日 12:46:26  Debug\n",
      "----Message：【单元测试】调试日志\n",
      "2024年06月19日 12:46:26  Info\n",
      "----Message：【单元测试】信息日志\n",
      "2024年06月19日 12:46:26  Warning\n",
      "----Message：【单元测试】报警日志\n",
      "2024年06月19日 12:46:26  Error\n",
      "----Message：【单元测试】错误日志\n",
      "----异常调用函数: MoveNext\n"
     ]
    }
   ],
   "source": [
    "BaseLogManager.Register_SaveLogToSQL(\"192.168.2.120\", \"root\", \"123456\");\n",
    "\n",
    "BaseLogManager.SendLog(LogLevel.Debug, \"【单元测试】调试日志\", \"\", true);\n",
    "BaseLogManager.SendLog(LogLevel.Info, \"【单元测试】信息日志\", \"\", true);\n",
    "BaseLogManager.SendLog(LogLevel.Warning, \"【单元测试】报警日志\", \"\", true);\n",
    "BaseLogManager.SendLog(LogLevel.Error, \"【单元测试】错误日志\", \"\", true);"
   ]
  },
  {
   "cell_type": "code",
   "execution_count": 7,
   "metadata": {
    "dotnet_interactive": {
     "language": "csharp"
    },
    "polyglot_notebook": {
     "kernelName": "csharp"
    },
    "vscode": {
     "languageId": "polyglot-notebook"
    }
   },
   "outputs": [
    {
     "name": "stdout",
     "output_type": "stream",
     "text": [
      "0: 【单元测试】调试日志\n",
      "1: 【单元测试】信息日志\n",
      "2: 【单元测试】报警日志\n",
      "3: 【单元测试】错误日志\n"
     ]
    }
   ],
   "source": [
    "int _index = 0;\n",
    "BaseLogManager.Clear_SendLogFunction();\n",
    "BaseLogManager.Register_SendLogFunction((_log)=>{Console.WriteLine($\"{_index++}: {_log.LogMessage}\");});\n",
    "\n",
    "BaseLogManager.SendLog(LogLevel.Debug, \"【单元测试】调试日志\", \"\", true);\n",
    "BaseLogManager.SendLog(LogLevel.Info, \"【单元测试】信息日志\", \"\", true);\n",
    "BaseLogManager.SendLog(LogLevel.Warning, \"【单元测试】报警日志\", \"\", true);\n",
    "BaseLogManager.SendLog(LogLevel.Error, \"【单元测试】错误日志\", \"\", true);\n",
    "\n",
    "BaseLogManager.Clear_SendLogFunction();"
   ]
  },
  {
   "cell_type": "markdown",
   "metadata": {},
   "source": [
    "数组格式化为 16 进制的字符串\n"
   ]
  },
  {
   "cell_type": "code",
   "execution_count": 8,
   "metadata": {
    "dotnet_interactive": {
     "language": "csharp"
    },
    "polyglot_notebook": {
     "kernelName": "csharp"
    },
    "vscode": {
     "languageId": "polyglot-notebook"
    }
   },
   "outputs": [
    {
     "name": "stdout",
     "output_type": "stream",
     "text": [
      "01 23 45 67 89 AB CD EF\r\n"
     ]
    }
   ],
   "source": [
    "byte[] _byte_array = [1, 35, 69, 103, 137, 171, 205, 239];\n",
    "string _string = BaseTransform.ByteToHexStr(_byte_array);\n",
    "_string.Dump();"
   ]
  },
  {
   "cell_type": "markdown",
   "metadata": {},
   "source": [
    "16 进制字符串转换为字节数组\n"
   ]
  },
  {
   "cell_type": "code",
   "execution_count": 9,
   "metadata": {
    "dotnet_interactive": {
     "language": "csharp"
    },
    "polyglot_notebook": {
     "kernelName": "csharp"
    },
    "vscode": {
     "languageId": "polyglot-notebook"
    }
   },
   "outputs": [
    {
     "name": "stdout",
     "output_type": "stream",
     "text": [
      "1, 35, 69, 103, 137, 171, 205, 14\r\n"
     ]
    }
   ],
   "source": [
    "string _string = \"01 23 45 67 89 AB CD E\";\n",
    "byte[] _byte_array = BaseTransform.HexStrToByte(_string);\n",
    "_byte_array.Dump();"
   ]
  },
  {
   "cell_type": "markdown",
   "metadata": {},
   "source": [
    "16 进制字符串格式化\n"
   ]
  },
  {
   "cell_type": "code",
   "execution_count": 10,
   "metadata": {
    "dotnet_interactive": {
     "language": "csharp"
    },
    "polyglot_notebook": {
     "kernelName": "csharp"
    },
    "vscode": {
     "languageId": "polyglot-notebook"
    }
   },
   "outputs": [
    {
     "name": "stdout",
     "output_type": "stream",
     "text": [
      "01 23 45 67 89 AB CD EF\r\n"
     ]
    }
   ],
   "source": [
    "string _string = \"0123456789ABCDEF\";\n",
    "string _string_formate = BaseTransform.HexStringFormatting(_string);\n",
    "_string_formate.Dump();"
   ]
  },
  {
   "cell_type": "markdown",
   "metadata": {},
   "source": [
    "数组格式化显示【byte 数组】\n"
   ]
  },
  {
   "cell_type": "code",
   "execution_count": null,
   "metadata": {
    "dotnet_interactive": {
     "language": "csharp"
    },
    "polyglot_notebook": {
     "kernelName": "csharp"
    },
    "vscode": {
     "languageId": "polyglot-notebook"
    }
   },
   "outputs": [],
   "source": [
    "byte[] _bytes = [0x01, 0x23, 0x45, 0x67, 0x89, 0xAB, 0xCD, 0xEF, byte.MinValue, byte.MaxValue];\n",
    "BaseTransform.FormatShowArray(_bytes);"
   ]
  },
  {
   "cell_type": "code",
   "execution_count": null,
   "metadata": {
    "dotnet_interactive": {
     "language": "csharp"
    },
    "polyglot_notebook": {
     "kernelName": "csharp"
    },
    "vscode": {
     "languageId": "polyglot-notebook"
    }
   },
   "outputs": [],
   "source": [
    "uint[] _uints = [0x01, 0x23, 0x45, 0x67, 0x89, 0xAB, 0xCD, 0xEF, uint.MinValue, uint.MaxValue];\n",
    "BaseTransform.FormatShowArray(_uints);"
   ]
  },
  {
   "cell_type": "markdown",
   "metadata": {},
   "source": [
    "`BaseSocketClient` 测试用例\n",
    "\n",
    "该测试用例会在本地创建一个 `Socket` 服务器，使用 `5001` 端口号，然后使用 `BaseSocketClient` 对象进行连接。\n",
    "\n",
    "测试如下功能：\n",
    "\n",
    "1. 连接 Socket 服务器\n",
    "2. 发送消息\n",
    "3. 发送消息等待回复 （耗时 2 秒）\n",
    "4. 发送消息等待回复超时（耗时 5 秒）\n",
    "5. 发送消息等待回复取消 （耗时 2 秒）\n",
    "6. 发送消息等待回复 （耗时 1 秒）\n",
    "\n",
    "`BaseSocketClient` 提供的发送消息并等待功能根据末尾的字符串决定接收回复完成。在该测试用例中，只有接收到的字符串末尾为 `A` 时，`SendMessage_WaitReply` 才会返回。否则会持续等待，直到超时或者取消。\n"
   ]
  },
  {
   "cell_type": "code",
   "execution_count": null,
   "metadata": {
    "dotnet_interactive": {
     "language": "csharp"
    },
    "polyglot_notebook": {
     "kernelName": "csharp"
    },
    "vscode": {
     "languageId": "polyglot-notebook"
    }
   },
   "outputs": [],
   "source": [
    "using System.Diagnostics;\n",
    "using System.Net;\n",
    "using System.Net.Sockets;\n",
    "\n",
    "Socket _listener = new Socket(AddressFamily.InterNetwork, SocketType.Stream, ProtocolType.Tcp);\n",
    "_listener.Bind(IPEndPoint.Parse(\"127.0.0.1:5001\"));\n",
    "_listener.Listen();\n",
    "\n",
    "BaseSocketClient _client = new BaseSocketClient(\"127.0.0.1\", 5001, \"客户端\");\n",
    "\n",
    "Task _task1 = Task.Run(() =>\n",
    "{\n",
    "    _client.Connect();\n",
    "\n",
    "    // 等待1秒后发送前两个字节，再等1秒，发送后两个字节\n",
    "    Stopwatch _watcher = Stopwatch.StartNew();\n",
    "    _client.SendMessage_WaitReply(\"Hello 0\", \"A\");\n",
    "    BaseLogManager.SendLog(LogLevel.Debug, $\"发送Hello 0，等待末尾为A的字符串回复，理论耗时2秒，实际耗时：{_watcher.ElapsedMilliseconds}ms\", \"\", true);\n",
    "\n",
    "    // 操作超时\n",
    "    _watcher = Stopwatch.StartNew();\n",
    "    _client.SendMessage_WaitReply(\"Hello 1\", \"A\");\n",
    "    BaseLogManager.SendLog(LogLevel.Debug, $\"发送Hello 1，等待末尾为A的字符串回复超时，理论耗时5秒，实际耗时：{_watcher.ElapsedMilliseconds}ms\", \"\", true);\n",
    "\n",
    "    // 操作取消\n",
    "    _watcher = Stopwatch.StartNew();\n",
    "    _client.SendMessage_WaitReply(\"Hello 2\", \"A\");\n",
    "    BaseLogManager.SendLog(LogLevel.Debug, $\"发送Hello 2，等待操作取消，理论耗时2秒，实际耗时：{_watcher.ElapsedMilliseconds}ms\", \"\", true);\n",
    "\n",
    "    _watcher = Stopwatch.StartNew();\n",
    "    _client.SendMessage_WaitReply(\"Hello 3\", \"A\");\n",
    "    BaseLogManager.SendLog(LogLevel.Debug, $\"发送Hello 3，等待末尾为A的字符串回复，理论耗时1秒，实际耗时：{_watcher.ElapsedMilliseconds}ms\", \"\", true);\n",
    "});\n",
    "\n",
    "Socket _server;\n",
    "Task _task2 = Task.Run(() =>\n",
    "{\n",
    "    _server = _listener.Accept();\n",
    "\n",
    "    Task.Delay(1000).Wait();\n",
    "    _server.Send(Encoding.Default.GetBytes(\"Reply 1\"));\n",
    "    Task.Delay(1000).Wait();\n",
    "    _server.Send(Encoding.Default.GetBytes(\"A\"));\n",
    "\n",
    "    Task.Delay(5000).Wait();\n",
    "\n",
    "    _server = _listener.Accept();\n",
    "    Task.Delay(2000).Wait();\n",
    "    _client.CancelWait();\n",
    "\n",
    "    _server = _listener.Accept();\n",
    "    Task.Delay(1000).Wait();\n",
    "    _server.Send(Encoding.Default.GetBytes(\"Reply 1 A\"));\n",
    "});\n",
    "\n",
    "Task.WhenAll(_task1, _task2).Wait();\n",
    "_client.DisConnect();"
   ]
  },
  {
   "cell_type": "markdown",
   "metadata": {},
   "source": [
    "`BaseSocketClient` 也支持发送字节数组。\n",
    "\n",
    "在等待字节数组的回复的时候，根据字节数组长度判断接收回复是否完成。该测试用例中，回复的字节数组长度必须为 4，否则会持续等待。\n"
   ]
  },
  {
   "cell_type": "code",
   "execution_count": null,
   "metadata": {
    "dotnet_interactive": {
     "language": "csharp"
    },
    "polyglot_notebook": {
     "kernelName": "csharp"
    },
    "vscode": {
     "languageId": "polyglot-notebook"
    }
   },
   "outputs": [],
   "source": [
    "Socket _listener = new Socket(AddressFamily.InterNetwork, SocketType.Stream, ProtocolType.Tcp);\n",
    "_listener.Bind(IPEndPoint.Parse(\"127.0.0.1:5000\"));\n",
    "_listener.Listen();\n",
    "\n",
    "BaseSocketClient _client = new BaseSocketClient(\"127.0.0.1\", 5000, \"客户端\");\n",
    "\n",
    "Task _task1 = Task.Run(() =>\n",
    "{\n",
    "    _client.Connect();\n",
    "\n",
    "    // 等待1秒后发送前两个字节，再等1秒，发送后两个字节\n",
    "    Stopwatch _watcher = Stopwatch.StartNew();\n",
    "    _client.SendMessage_WaitReply([0x00], 4);\n",
    "    BaseLogManager.SendLog(LogLevel.Debug, $\"等待长度为4的字节数组理论耗时2秒，实际耗时：{_watcher.ElapsedMilliseconds}ms\", \"\", true);\n",
    "\n",
    "    // 操作超时\n",
    "    _watcher = Stopwatch.StartNew();\n",
    "    _client.SendMessage_WaitReply([0x01], 4);\n",
    "    BaseLogManager.SendLog(LogLevel.Debug, $\"等待长度为4的字节数组超时，理论耗时5秒，实际耗时：{_watcher.ElapsedMilliseconds}ms\", \"\", true);\n",
    "\n",
    "    // 操作取消\n",
    "    _watcher = Stopwatch.StartNew();\n",
    "    _client.SendMessage_WaitReply([0x02], 4);\n",
    "    BaseLogManager.SendLog(LogLevel.Debug, $\"操作取消，理论耗时2秒，实际耗时：{_watcher.ElapsedMilliseconds}ms\", \"\", true);\n",
    "\n",
    "    _watcher = Stopwatch.StartNew();\n",
    "    _client.SendMessage_WaitReply([0x00], 4);\n",
    "    BaseLogManager.SendLog(LogLevel.Debug, $\"等待长度为4的字节数组理论耗时1秒，实际耗时：{_watcher.ElapsedMilliseconds}ms\", \"\", true);\n",
    "});\n",
    "\n",
    "Socket _server;\n",
    "Task _task2 = Task.Run(() =>\n",
    "{\n",
    "    _server = _listener.Accept();\n",
    "\n",
    "    Task.Delay(1000).Wait();\n",
    "    _server.Send(new byte[] { 0x01, 0x02 });\n",
    "    Task.Delay(1000).Wait();\n",
    "    _server.Send(new byte[] { 0x03, 0x04 });\n",
    "\n",
    "    Task.Delay(5000).Wait();\n",
    "\n",
    "    _server = _listener.Accept();\n",
    "    Task.Delay(2000).Wait();\n",
    "    _client.CancelWait();\n",
    "\n",
    "    _server = _listener.Accept();\n",
    "    Task.Delay(1000).Wait();\n",
    "    _server.Send(new byte[] { 0x01, 0x02, 0x03, 0x04 });\n",
    "});\n",
    "\n",
    "Task.WhenAll(_task1, _task2).Wait();\n",
    "_client.DisConnect();"
   ]
  },
  {
   "cell_type": "markdown",
   "metadata": {},
   "source": [
    "BaseSocketServer 测试用例\n",
    "\n",
    "该类暂时还没完成。\n"
   ]
  },
  {
   "cell_type": "code",
   "execution_count": null,
   "metadata": {
    "dotnet_interactive": {
     "language": "csharp"
    },
    "polyglot_notebook": {
     "kernelName": "csharp"
    },
    "vscode": {
     "languageId": "polyglot-notebook"
    }
   },
   "outputs": [],
   "source": [
    "BaseSocketServer _server = new BaseSocketServer(6666, \"服务器\");\n",
    "_server.Listen();\n",
    "Task.Delay(100).Wait();\n",
    "\n",
    "BaseSocketClient _client = new BaseSocketClient(\"127.0.0.1\", 6666, \"客户端\");\n",
    "_client.Connect();\n",
    "\n",
    "Stopwatch _watcher = Stopwatch.StartNew();\n",
    "_client.SendMessage([00]);\n",
    "BaseLogManager.SendLog(LogLevel.Debug, $\"正常接收数据，实际耗时：{_watcher.ElapsedMilliseconds}ms\", \"\", true);\n",
    "\n",
    "BaseLogManager.SendLog(LogLevel.Debug, $\"---------------------------------------------\", \"\", true);\n",
    "Task.Delay(100).Wait();\n",
    "_client.DisConnect();\n",
    "Task.Delay(100).Wait();\n",
    "_client.Connect();\n",
    "BaseLogManager.SendLog(LogLevel.Debug, $\"---------------------------------------------\", \"\", true);\n",
    "\n",
    "_watcher = Stopwatch.StartNew();\n",
    "_client.SendMessage([01]);\n",
    "BaseLogManager.SendLog(LogLevel.Debug, $\"重连后接收数据，实际耗时：{_watcher.ElapsedMilliseconds}ms\", \"\", true);\n",
    "BaseLogManager.SendLog(LogLevel.Debug, $\"---------------------------------------------\", \"\", true);\n",
    "\n",
    "_watcher = Stopwatch.StartNew();\n",
    "Task.Run(() => { _client.SendMessage_WaitReply([03], 1); });\n",
    "Task.Delay(1000).Wait();\n",
    "_client.CancelWait();\n",
    "BaseLogManager.SendLog(LogLevel.Debug, $\"操作取消，理论耗时1秒，实际耗时：{_watcher.ElapsedMilliseconds}ms\", \"\", true);\n",
    "BaseLogManager.SendLog(LogLevel.Debug, $\"---------------------------------------------\", \"\", true);\n",
    "\n",
    "_watcher = Stopwatch.StartNew();\n",
    "_client.SendMessage_WaitReply([04], 1);\n",
    "BaseLogManager.SendLog(LogLevel.Debug, $\"操作超时，理论耗时5秒，实际耗时：{_watcher.ElapsedMilliseconds}ms\", \"\", true);\n",
    "BaseLogManager.SendLog(LogLevel.Debug, $\"---------------------------------------------\", \"\", true);\n",
    "\n",
    "_client.DisConnect();\n",
    "Task.Delay(100).Wait();\n",
    "_server.Close();\n",
    "BaseLogManager.SendLog(LogLevel.Debug, $\"客户端主动断开\", \"\", true);\n",
    "BaseLogManager.SendLog(LogLevel.Debug, $\"---------------------------------------------\", \"\", true);\n",
    "\n",
    "_server.Listen();\n",
    "_client.Connect();\n",
    "Task.Delay(100).Wait();\n",
    "_server.Close();\n",
    "BaseLogManager.SendLog(LogLevel.Debug, $\"服务器主动断开\", \"\", true);\n",
    "BaseLogManager.SendLog(LogLevel.Debug, $\"---------------------------------------------\", \"\", true);"
   ]
  }
 ],
 "metadata": {
  "language_info": {
   "name": "csharp"
  }
 },
 "nbformat": 4,
 "nbformat_minor": 2
}
