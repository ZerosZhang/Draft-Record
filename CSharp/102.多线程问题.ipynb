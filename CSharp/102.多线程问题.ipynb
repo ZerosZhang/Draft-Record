{
 "cells": [
  {
   "cell_type": "code",
   "execution_count": 1,
   "metadata": {
    "dotnet_interactive": {
     "language": "csharp"
    },
    "polyglot_notebook": {
     "kernelName": "csharp"
    },
    "vscode": {
     "languageId": "polyglot-notebook"
    }
   },
   "outputs": [
    {
     "name": "stdout",
     "output_type": "stream",
     "text": [
      "0:数量20\n",
      "1:数量20\n",
      "2:数量20\n",
      "3:数量20\n",
      "4:数量20\n",
      "5:数量20\n",
      "6:数量20\n",
      "7:数量20\n",
      "8:数量20\n",
      "9:数量19\n",
      "  10 11 12 13 14 15 16 17 18 0 1 2 3 4 5 6 7 8 9\n"
     ]
    }
   ],
   "source": [
    "using System.Threading;\n",
    "using System.IO;\n",
    "\n",
    "const int MAX_COUNT = 10;\n",
    "int _count = 0;\n",
    "while (_count < MAX_COUNT)\n",
    "{\n",
    "    List<string> list = new List<string>();\n",
    "    int _num = 10;\n",
    "    Task _task1 = Task.Run(() =>\n",
    "    {\n",
    "        for (int i = 0; i < _num; i++) { list.Add(i.ToString()); }\n",
    "    });\n",
    "\n",
    "    Task _task2 = Task.Run(() =>\n",
    "    {\n",
    "        for (int i = _num; i < 2 * _num; i++) { list.Add(i.ToString()); }\n",
    "    });\n",
    "\n",
    "    Task.WaitAll(_task1, _task2);\n",
    "\n",
    "    Console.WriteLine($\"{_count++}:数量{list.Count}\");\n",
    "    if (list.Count != _num * 2)\n",
    "    {\n",
    "        Console.WriteLine($\"  {string.Join(' ', list)}\");\n",
    "    }\n",
    "    Thread.Sleep(1000);\n",
    "}"
   ]
  }
 ],
 "metadata": {
  "language_info": {
   "name": "csharp"
  }
 },
 "nbformat": 4,
 "nbformat_minor": 2
}
