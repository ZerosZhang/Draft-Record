{
 "cells": [
  {
   "cell_type": "markdown",
   "metadata": {},
   "source": [
    "## 多线程访问同一个列表导致冲突的问题\n",
    "\n",
    "两个线程同时往一个 List 中加入`MAX_COUNT`个数，最终 List 的数量有可能并非是`2 * MAX_COUNT`\n"
   ]
  },
  {
   "cell_type": "code",
   "execution_count": 1,
   "metadata": {
    "dotnet_interactive": {
     "language": "csharp"
    },
    "polyglot_notebook": {
     "kernelName": "csharp"
    },
    "vscode": {
     "languageId": "polyglot-notebook"
    }
   },
   "outputs": [
    {
     "name": "stdout",
     "output_type": "stream",
     "text": [
      "0:数量20\n",
      "1:数量20\n",
      "2:数量20\n",
      "3:数量20\n",
      "4:数量20\n",
      "5:数量20\n",
      "6:数量20\n",
      "7:数量20\n",
      "8:数量20\n",
      "9:数量20\n"
     ]
    }
   ],
   "source": [
    "#load \"LoadBaseToolWPF.csx\"\n",
    "using BaseTool;\n",
    "using System.Threading;\n",
    "using System.IO;\n",
    "\n",
    "const int MAX_COUNT = 10;\n",
    "int _count = 0;\n",
    "while (_count < MAX_COUNT)\n",
    "{\n",
    "    List<int> list = new List<int>();\n",
    "\n",
    "    Task _task1 = Task.Run(() =>\n",
    "    {\n",
    "        for (int i = 0; i < MAX_COUNT; i++) { list.Add(i); }\n",
    "    });\n",
    "\n",
    "    Task _task2 = Task.Run(() =>\n",
    "    {\n",
    "        for (int i = MAX_COUNT; i < 2 * MAX_COUNT; i++) { list.Add(i); }\n",
    "    });\n",
    "\n",
    "    Task.WaitAll(_task1, _task2);\n",
    "\n",
    "    // 当长度对不上时，输出详细内容\n",
    "    Console.WriteLine($\"{_count++}:数量{list.Count}\");\n",
    "    if (list.Count != MAX_COUNT * 2) { list.Dump(); }\n",
    "    Thread.Sleep(1000);\n",
    "}"
   ]
  },
  {
   "cell_type": "markdown",
   "metadata": {},
   "source": [
    "## 测试直接运行异步函数，而不使用 await 关键字的运行情况\n"
   ]
  },
  {
   "cell_type": "code",
   "execution_count": 2,
   "metadata": {
    "dotnet_interactive": {
     "language": "csharp"
    },
    "polyglot_notebook": {
     "kernelName": "csharp"
    },
    "vscode": {
     "languageId": "polyglot-notebook"
    }
   },
   "outputs": [
    {
     "name": "stdout",
     "output_type": "stream",
     "text": [
      "Hello World\n",
      "运行耗时：2001ms\n"
     ]
    }
   ],
   "source": [
    "using System.Diagnostics;\n",
    "\n",
    "Stopwatch _sw = Stopwatch.StartNew();\n",
    "await Function();\n",
    "_sw.Stop();\n",
    "Console.WriteLine($\"运行耗时：{_sw.ElapsedMilliseconds}ms\");\n",
    "\n",
    "// 这是一个异步函数，如果不直接执行，则会直接跳过\n",
    "public async Task Function()\n",
    "{\n",
    "    await Task.Delay(2000);\n",
    "    Console.WriteLine(\"Hello World\");\n",
    "}"
   ]
  },
  {
   "cell_type": "code",
   "execution_count": 3,
   "metadata": {
    "dotnet_interactive": {
     "language": "csharp"
    },
    "polyglot_notebook": {
     "kernelName": "csharp"
    },
    "vscode": {
     "languageId": "polyglot-notebook"
    }
   },
   "outputs": [
    {
     "name": "stdout",
     "output_type": "stream",
     "text": [
      "运行耗时：0ms\r\n"
     ]
    }
   ],
   "source": [
    "using System.Diagnostics;\n",
    "\n",
    "Stopwatch _sw = Stopwatch.StartNew();\n",
    "Function();\n",
    "_sw.Stop();\n",
    "Console.WriteLine($\"运行耗时：{_sw.ElapsedMilliseconds}ms\");\n",
    "\n",
    "// 这是一个异步函数，如果不直接执行，则会直接跳过\n",
    "public async Task Function()\n",
    "{\n",
    "    await Task.Delay(2000);\n",
    "    Console.WriteLine(\"Hello World\");\n",
    "}"
   ]
  },
  {
   "cell_type": "markdown",
   "metadata": {},
   "source": [
    "## 多线程打断等待测试\n",
    "\n",
    "- 任务 1 持续循环，等待任务 2 打断后，再过 1 秒，结束。\n",
    "- 任务 2 等待 2 秒，打断任务 1，等待任务 1 完全结束，也结束。\n",
    "\n",
    "这里有个问题：\n",
    "如果任务2中没有`await _task`，即取消后就结束任务2，那么任务1最终就不会执行。"
   ]
  },
  {
   "cell_type": "code",
   "execution_count": 12,
   "metadata": {
    "dotnet_interactive": {
     "language": "csharp"
    },
    "polyglot_notebook": {
     "kernelName": "csharp"
    },
    "vscode": {
     "languageId": "polyglot-notebook"
    }
   },
   "outputs": [
    {
     "name": "stdout",
     "output_type": "stream",
     "text": [
      "任务1结束\n",
      "任务2结束\n"
     ]
    }
   ],
   "source": [
    "using System.Threading.Tasks;\n",
    "\n",
    "CancellationTokenSource _cts = new CancellationTokenSource();\n",
    "Task _task = Task.Run(()=>\n",
    "{\n",
    "    while(true)\n",
    "    {\n",
    "        if(_cts.IsCancellationRequested) break;\n",
    "    }\n",
    "    Task.Delay(1000).Wait();\n",
    "    Console.WriteLine(\"任务1结束\");\n",
    "});\n",
    "\n",
    "await Task.Run(async ()=>\n",
    "{\n",
    "    Task.Delay(2000).Wait();\n",
    "    _cts.Cancel();\n",
    "    await _task;\n",
    "    Console.WriteLine(\"任务2结束\");\n",
    "});"
   ]
  },
  {
   "cell_type": "code",
   "execution_count": null,
   "metadata": {
    "dotnet_interactive": {
     "language": "csharp"
    },
    "polyglot_notebook": {
     "kernelName": "csharp"
    },
    "vscode": {
     "languageId": "polyglot-notebook"
    }
   },
   "outputs": [],
   "source": []
  },
  {
   "cell_type": "code",
   "execution_count": null,
   "metadata": {
    "dotnet_interactive": {
     "language": "csharp"
    },
    "polyglot_notebook": {
     "kernelName": "csharp"
    },
    "vscode": {
     "languageId": "polyglot-notebook"
    }
   },
   "outputs": [],
   "source": []
  }
 ],
 "metadata": {
  "language_info": {
   "name": "csharp"
  }
 },
 "nbformat": 4,
 "nbformat_minor": 2
}
