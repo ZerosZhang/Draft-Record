{
 "cells": [
  {
   "cell_type": "code",
   "execution_count": null,
   "metadata": {
    "vscode": {
     "languageId": "polyglot-notebook"
    }
   },
   "outputs": [],
   "source": [
    "using System.Threading;\n",
    "using System.IO;\n",
    "\n",
    "const int MAX_COUNT = 10;\n",
    "int _count = 0;\n",
    "while (_count < MAX_COUNT)\n",
    "{\n",
    "    List<string> list = new List<string>();\n",
    "    int _num = 10;\n",
    "    Task _task1 = Task.Run(() =>\n",
    "    {\n",
    "        for (int i = 0; i < _num; i++) { list.Add(i.ToString()); }\n",
    "    });\n",
    "\n",
    "    Task _task2 = Task.Run(() =>\n",
    "    {\n",
    "        for (int i = _num; i < 2 * _num; i++) { list.Add(i.ToString()); }\n",
    "    });\n",
    "\n",
    "    Task.WaitAll(_task1, _task2);\n",
    "\n",
    "    Console.WriteLine($\"{_count++}:数量{list.Count}\");\n",
    "    if (list.Count != _num * 2)\n",
    "    {\n",
    "        Console.WriteLine($\"  {string.Join(' ', list)}\");\n",
    "    }\n",
    "    Thread.Sleep(1000);\n",
    "}"
   ]
  }
 ],
 "metadata": {
  "language_info": {
   "name": "csharp"
  }
 },
 "nbformat": 4,
 "nbformat_minor": 2
}
