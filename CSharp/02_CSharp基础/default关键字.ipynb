{
 "cells": [
  {
   "cell_type": "code",
   "execution_count": 2,
   "metadata": {
    "dotnet_interactive": {
     "language": "csharp"
    },
    "polyglot_notebook": {
     "kernelName": "csharp"
    }
   },
   "outputs": [
    {
     "name": "stdout",
     "output_type": "stream",
     "text": [
      "default(int) 0\n",
      "default(double) 0\n",
      "default(string) \n",
      "default(DateTime) 0001/1/1 0:00:00\n",
      "default(bool) False\n",
      "default(char) \u0000\n",
      "default(decimal) 0\n",
      "default(float) 0\n",
      "default(object) \n",
      "default(int[]) \n",
      "default(List<int>) \n",
      "default(Dictionary) \n",
      "default(string[]) \n"
     ]
    }
   ],
   "source": [
    "Console.WriteLine($\"default(int) {default(int)}\");\n",
    "Console.WriteLine($\"default(double) {default(double)}\");\n",
    "Console.WriteLine($\"default(string) {default(string)}\");\n",
    "Console.WriteLine($\"default(DateTime) {default(DateTime)}\");\n",
    "Console.WriteLine($\"default(bool) {default(bool)}\");\n",
    "Console.WriteLine($\"default(char) {default(char)}\");\n",
    "Console.WriteLine($\"default(decimal) {default(decimal)}\");\n",
    "Console.WriteLine($\"default(float) {default(float)}\");\n",
    "Console.WriteLine($\"default(object) {default(object)}\");\n",
    "Console.WriteLine($\"default(int[]) {default(int[])}\");\n",
    "Console.WriteLine($\"default(List<int>) {default(List<int>)}\");\n",
    "Console.WriteLine($\"default(Dictionary) {default(Dictionary<int, string>)}\");\n",
    "Console.WriteLine($\"default(string[]) {default(string[])}\");"
   ]
  }
 ],
 "metadata": {
  "kernelspec": {
   "display_name": ".NET (C#)",
   "language": "C#",
   "name": ".net-csharp"
  },
  "language_info": {
   "name": "polyglot-notebook"
  },
  "polyglot_notebook": {
   "kernelInfo": {
    "defaultKernelName": "csharp",
    "items": [
     {
      "aliases": [],
      "languageName": "csharp",
      "name": "csharp"
     }
    ]
   }
  }
 },
 "nbformat": 4,
 "nbformat_minor": 2
}
