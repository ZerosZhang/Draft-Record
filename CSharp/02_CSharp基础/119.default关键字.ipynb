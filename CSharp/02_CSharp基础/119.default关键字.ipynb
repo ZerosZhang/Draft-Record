{
 "cells": [
  {
   "cell_type": "code",
   "execution_count": 1,
   "metadata": {
    "dotnet_interactive": {
     "language": "csharp"
    },
    "polyglot_notebook": {
     "kernelName": "csharp"
    }
   },
   "outputs": [
    {
     "name": "stdout",
     "output_type": "stream",
     "text": [
      "0\n",
      "0\n",
      "\n",
      "0001/1/1 0:00:00\n",
      "False\n",
      "\u0000\n",
      "0\n",
      "0\n",
      "\n",
      "\n",
      "\n",
      "\n",
      "\n"
     ]
    }
   ],
   "source": [
    "Console.WriteLine(default(int));\n",
    "Console.WriteLine(default(double));\n",
    "Console.WriteLine(default(string));\n",
    "Console.WriteLine(default(DateTime));\n",
    "Console.WriteLine(default(bool));\n",
    "Console.WriteLine(default(char));\n",
    "Console.WriteLine(default(decimal));\n",
    "Console.WriteLine(default(float));\n",
    "Console.WriteLine(default(object));\n",
    "Console.WriteLine(default(int[]));\n",
    "Console.WriteLine(default(List<int>));\n",
    "Console.WriteLine(default(Dictionary<int, string>));\n",
    "Console.WriteLine(default(string[]));"
   ]
  }
 ],
 "metadata": {
  "kernelspec": {
   "display_name": ".NET (C#)",
   "language": "C#",
   "name": ".net-csharp"
  },
  "language_info": {
   "name": "polyglot-notebook"
  },
  "polyglot_notebook": {
   "kernelInfo": {
    "defaultKernelName": "csharp",
    "items": [
     {
      "aliases": [],
      "languageName": "csharp",
      "name": "csharp"
     }
    ]
   }
  }
 },
 "nbformat": 4,
 "nbformat_minor": 2
}
