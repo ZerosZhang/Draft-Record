{
 "cells": [
  {
   "cell_type": "code",
   "execution_count": 4,
   "metadata": {
    "dotnet_interactive": {
     "language": "csharp"
    },
    "polyglot_notebook": {
     "kernelName": "csharp"
    },
    "vscode": {
     "languageId": "polyglot-notebook"
    }
   },
   "outputs": [
    {
     "name": "stdout",
     "output_type": "stream",
     "text": [
      "[ ]-2024/10/17 15:00:38\n",
      "[d]-2024/10/17\n",
      "[D]-2024年10月17日\n",
      "[f]-2024年10月17日 15:00\n",
      "[F]-2024年10月17日 15:00:38\n",
      "[g]-2024/10/17 15:00\n",
      "[G]-2024/10/17 15:00:38\n",
      "[t]-15:00\n",
      "[T]-15:00:38\n",
      "[u]-2024-10-17 15:00:38Z\n",
      "[U]-2024年10月17日 7:00:38\n",
      "[m]-10月17日\n",
      "[M]-10月17日\n",
      "[r]-Thu, 17 Oct 2024 15:00:38 GMT\n",
      "[R]-Thu, 17 Oct 2024 15:00:38 GMT\n",
      "[y]-2024年10月\n",
      "[Y]-2024年10月\n",
      "[o]-2024-10-17T15:00:38.8053871+08:00\n",
      "[O]-2024-10-17T15:00:38.8054005+08:00\n",
      "[s]-2024-10-17T15:00:38\n",
      "2024-10-17 15:00:38.80\n"
     ]
    }
   ],
   "source": [
    "#load \"..\\Extension\\LoadBaseTool.csx\"\n",
    "using BaseTool;\n",
    "\n",
    "Console.WriteLine($\"[ ]-{DateTime.Now.ToString()}\");\n",
    "Console.WriteLine($\"[d]-{DateTime.Now.ToString(\"d\")}\");\n",
    "Console.WriteLine($\"[D]-{DateTime.Now.ToString(\"D\")}\");\n",
    "Console.WriteLine($\"[f]-{DateTime.Now.ToString(\"f\")}\");\n",
    "Console.WriteLine($\"[F]-{DateTime.Now.ToString(\"F\")}\");\n",
    "Console.WriteLine($\"[g]-{DateTime.Now.ToString(\"g\")}\");\n",
    "Console.WriteLine($\"[G]-{DateTime.Now.ToString(\"G\")}\");\n",
    "Console.WriteLine($\"[t]-{DateTime.Now.ToString(\"t\")}\");\n",
    "Console.WriteLine($\"[T]-{DateTime.Now.ToString(\"T\")}\");\n",
    "Console.WriteLine($\"[u]-{DateTime.Now.ToString(\"u\")}\");\n",
    "Console.WriteLine($\"[U]-{DateTime.Now.ToString(\"U\")}\");\n",
    "Console.WriteLine($\"[m]-{DateTime.Now.ToString(\"m\")}\");\n",
    "Console.WriteLine($\"[M]-{DateTime.Now.ToString(\"M\")}\");\n",
    "Console.WriteLine($\"[r]-{DateTime.Now.ToString(\"r\")}\");\n",
    "Console.WriteLine($\"[R]-{DateTime.Now.ToString(\"R\")}\");\n",
    "Console.WriteLine($\"[y]-{DateTime.Now.ToString(\"y\")}\");\n",
    "Console.WriteLine($\"[Y]-{DateTime.Now.ToString(\"Y\")}\");\n",
    "Console.WriteLine($\"[o]-{DateTime.Now.ToString(\"o\")}\");\n",
    "Console.WriteLine($\"[O]-{DateTime.Now.ToString(\"O\")}\");\n",
    "Console.WriteLine($\"[s]-{DateTime.Now.ToString(\"s\")}\");\n",
    "Console.WriteLine(DateTime.Now.ToString(\"yyyy-MM-dd HH:mm:ss.ff\"));"
   ]
  }
 ],
 "metadata": {
  "language_info": {
   "name": "csharp"
  }
 },
 "nbformat": 4,
 "nbformat_minor": 2
}
