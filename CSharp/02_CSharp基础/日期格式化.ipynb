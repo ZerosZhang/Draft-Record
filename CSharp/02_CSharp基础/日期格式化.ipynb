{
 "cells": [
  {
   "cell_type": "code",
   "execution_count": 7,
   "metadata": {
    "dotnet_interactive": {
     "language": "csharp"
    },
    "polyglot_notebook": {
     "kernelName": "csharp"
    },
    "vscode": {
     "languageId": "polyglot-notebook"
    }
   },
   "outputs": [],
   "source": [
    "#load \"..\\Extension\\LoadBaseTool.csx\"\n",
    "using BaseTool;"
   ]
  },
  {
   "cell_type": "markdown",
   "metadata": {},
   "source": [
    "## `DateTime`格式化"
   ]
  },
  {
   "cell_type": "code",
   "execution_count": 8,
   "metadata": {
    "vscode": {
     "languageId": "polyglot-notebook"
    }
   },
   "outputs": [
    {
     "name": "stdout",
     "output_type": "stream",
     "text": [
      "[ ]-2024/10/17 20:13:26\n",
      "[d]-2024/10/17\n",
      "[D]-2024年10月17日\n",
      "[f]-2024年10月17日 20:13\n",
      "[F]-2024年10月17日 20:13:26\n",
      "[g]-2024/10/17 20:13\n",
      "[G]-2024/10/17 20:13:26\n",
      "[t]-20:13\n",
      "[T]-20:13:26\n",
      "[u]-2024-10-17 20:13:26Z\n",
      "[U]-2024年10月17日 12:13:26\n",
      "[m]-10月17日\n",
      "[M]-10月17日\n",
      "[r]-Thu, 17 Oct 2024 20:13:26 GMT\n",
      "[R]-Thu, 17 Oct 2024 20:13:26 GMT\n",
      "[y]-2024年10月\n",
      "[Y]-2024年10月\n",
      "[o]-2024-10-17T20:13:26.9087845+08:00\n",
      "[O]-2024-10-17T20:13:26.9088087+08:00\n",
      "[s]-2024-10-17T20:13:26\n",
      "2024-10-17 20:13:26.90\n"
     ]
    }
   ],
   "source": [
    "\n",
    "Console.WriteLine($\"[ ]-{DateTime.Now.ToString()}\");\n",
    "Console.WriteLine($\"[d]-{DateTime.Now.ToString(\"d\")}\");\n",
    "Console.WriteLine($\"[D]-{DateTime.Now.ToString(\"D\")}\");\n",
    "Console.WriteLine($\"[f]-{DateTime.Now.ToString(\"f\")}\");\n",
    "Console.WriteLine($\"[F]-{DateTime.Now.ToString(\"F\")}\");\n",
    "Console.WriteLine($\"[g]-{DateTime.Now.ToString(\"g\")}\");\n",
    "Console.WriteLine($\"[G]-{DateTime.Now.ToString(\"G\")}\");\n",
    "Console.WriteLine($\"[t]-{DateTime.Now.ToString(\"t\")}\");\n",
    "Console.WriteLine($\"[T]-{DateTime.Now.ToString(\"T\")}\");\n",
    "Console.WriteLine($\"[u]-{DateTime.Now.ToString(\"u\")}\");\n",
    "Console.WriteLine($\"[U]-{DateTime.Now.ToString(\"U\")}\");\n",
    "Console.WriteLine($\"[m]-{DateTime.Now.ToString(\"m\")}\");\n",
    "Console.WriteLine($\"[M]-{DateTime.Now.ToString(\"M\")}\");\n",
    "Console.WriteLine($\"[r]-{DateTime.Now.ToString(\"r\")}\");\n",
    "Console.WriteLine($\"[R]-{DateTime.Now.ToString(\"R\")}\");\n",
    "Console.WriteLine($\"[y]-{DateTime.Now.ToString(\"y\")}\");\n",
    "Console.WriteLine($\"[Y]-{DateTime.Now.ToString(\"Y\")}\");\n",
    "Console.WriteLine($\"[o]-{DateTime.Now.ToString(\"o\")}\");\n",
    "Console.WriteLine($\"[O]-{DateTime.Now.ToString(\"O\")}\");\n",
    "Console.WriteLine($\"[s]-{DateTime.Now.ToString(\"s\")}\");\n",
    "Console.WriteLine(DateTime.Now.ToString(\"yyyy-MM-dd HH:mm:ss.ff\"));"
   ]
  },
  {
   "cell_type": "code",
   "execution_count": 9,
   "metadata": {
    "vscode": {
     "languageId": "polyglot-notebook"
    }
   },
   "outputs": [
    {
     "name": "stdout",
     "output_type": "stream",
     "text": [
      "[F]-2024年10月17日 20:13:27\n",
      "[g]-2024/10/17 20:13\n",
      "[G]-2024/10/17 20:13:27\n",
      "[t]-20:13\n",
      "[T]-20:13:27\n",
      "[u]-2024-10-17 20:13:27Z\n",
      "[U]-2024年10月17日 12:13:27\n",
      "[m]-10月17日\n",
      "[M]-10月17日\n",
      "[r]-Thu, 17 Oct 2024 20:13:27 GMT\n",
      "[R]-Thu, 17 Oct 2024 20:13:27 GMT\n",
      "[y]-2024年10月\n",
      "[Y]-2024年10月\n",
      "[o]-2024-10-17T20:13:27.3523648+08:00\n",
      "[O]-2024-10-17T20:13:27.3523876+08:00\n",
      "[s]-2024-10-17T20:13:27\n",
      "2024-10-17 20:13:27.35\n"
     ]
    }
   ],
   "source": [
    "Console.WriteLine($\"[F]-{DateTime.Now.ToString(\"F\")}\");\n",
    "Console.WriteLine($\"[g]-{DateTime.Now.ToString(\"g\")}\");\n",
    "Console.WriteLine($\"[G]-{DateTime.Now.ToString(\"G\")}\");\n",
    "Console.WriteLine($\"[t]-{DateTime.Now.ToString(\"t\")}\");\n",
    "Console.WriteLine($\"[T]-{DateTime.Now.ToString(\"T\")}\");\n",
    "Console.WriteLine($\"[u]-{DateTime.Now.ToString(\"u\")}\");\n",
    "Console.WriteLine($\"[U]-{DateTime.Now.ToString(\"U\")}\");\n",
    "Console.WriteLine($\"[m]-{DateTime.Now.ToString(\"m\")}\");\n",
    "Console.WriteLine($\"[M]-{DateTime.Now.ToString(\"M\")}\");\n",
    "Console.WriteLine($\"[r]-{DateTime.Now.ToString(\"r\")}\");\n",
    "Console.WriteLine($\"[R]-{DateTime.Now.ToString(\"R\")}\");\n",
    "Console.WriteLine($\"[y]-{DateTime.Now.ToString(\"y\")}\");\n",
    "Console.WriteLine($\"[Y]-{DateTime.Now.ToString(\"Y\")}\");\n",
    "Console.WriteLine($\"[o]-{DateTime.Now.ToString(\"o\")}\");\n",
    "Console.WriteLine($\"[O]-{DateTime.Now.ToString(\"O\")}\");\n",
    "Console.WriteLine($\"[s]-{DateTime.Now.ToString(\"s\")}\");\n",
    "Console.WriteLine(DateTime.Now.ToString(\"yyyy-MM-dd HH:mm:ss.ff\"));"
   ]
  },
  {
   "cell_type": "markdown",
   "metadata": {},
   "source": [
    "## `DateOnly` 和 `TimeOnly`"
   ]
  },
  {
   "cell_type": "code",
   "execution_count": 10,
   "metadata": {
    "dotnet_interactive": {
     "language": "csharp"
    },
    "polyglot_notebook": {
     "kernelName": "csharp"
    },
    "vscode": {
     "languageId": "polyglot-notebook"
    }
   },
   "outputs": [
    {
     "name": "stdout",
     "output_type": "stream",
     "text": [
      "2024年10月17日 0:00:00\n",
      "2024/10/17\n",
      "291\n",
      "2024年10月17日 20:13:27\n",
      "20:13\n"
     ]
    }
   ],
   "source": [
    "DateOnly _date_only = DateOnly.FromDateTime(DateTime.Today);\n",
    "\n",
    "Console.WriteLine($\"{DateTime.Today:F}\");\n",
    "Console.WriteLine($\"{_date_only}\");  // Date Only 没法使用格式化\n",
    "Console.WriteLine($\"{_date_only.DayOfYear}\");\n",
    "\n",
    "\n",
    "TimeOnly _time_only = TimeOnly.FromDateTime(DateTime.Now);\n",
    "Console.WriteLine($\"{DateTime.Now:F}\");\n",
    "Console.WriteLine($\"{_time_only}\");  // Time Only 没法使用格式化"
   ]
  },
  {
   "cell_type": "code",
   "execution_count": 12,
   "metadata": {
    "vscode": {
     "languageId": "polyglot-notebook"
    }
   },
   "outputs": [
    {
     "name": "stdout",
     "output_type": "stream",
     "text": [
      "Hello World\r\n"
     ]
    }
   ],
   "source": [
    "Task _task = Task.Run(()=>{Console.WriteLine(\"Hello World\");});"
   ]
  }
 ],
 "metadata": {
  "kernelspec": {
   "display_name": ".NET (C#)",
   "language": "C#",
   "name": ".net-csharp"
  },
  "language_info": {
   "name": "csharp"
  },
  "polyglot_notebook": {
   "kernelInfo": {
    "defaultKernelName": "csharp",
    "items": [
     {
      "aliases": [],
      "name": "csharp"
     }
    ]
   }
  }
 },
 "nbformat": 4,
 "nbformat_minor": 2
}
