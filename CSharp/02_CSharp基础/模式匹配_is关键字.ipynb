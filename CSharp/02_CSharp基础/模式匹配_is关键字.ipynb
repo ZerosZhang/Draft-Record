{
 "cells": [
  {
   "cell_type": "code",
   "execution_count": 12,
   "metadata": {
    "dotnet_interactive": {
     "language": "csharp"
    },
    "polyglot_notebook": {
     "kernelName": "csharp"
    }
   },
   "outputs": [],
   "source": [
    "#load \"..\\Extension\\LoadBaseTool.csx\"\n",
    "using BaseTool;"
   ]
  },
  {
   "cell_type": "markdown",
   "metadata": {},
   "source": [
    "`{}`可以理解为是一个非`null`的对象\n"
   ]
  },
  {
   "cell_type": "code",
   "execution_count": 13,
   "metadata": {
    "dotnet_interactive": {
     "language": "csharp"
    },
    "polyglot_notebook": {
     "kernelName": "csharp"
    }
   },
   "outputs": [
    {
     "name": "stdout",
     "output_type": "stream",
     "text": [
      "False\n",
      "False\n",
      "True\n",
      "False\n",
      "False\n"
     ]
    }
   ],
   "source": [
    "bool? _flag = null;\n",
    "\n",
    "Console.WriteLine(_flag is {});     // false\n",
    "Console.WriteLine(_flag is bool);   // false\n",
    "Console.WriteLine(_flag is null);   // true\n",
    "Console.WriteLine(_flag is true);   // false\n",
    "Console.WriteLine(_flag is false);  // false"
   ]
  },
  {
   "cell_type": "code",
   "execution_count": 14,
   "metadata": {
    "dotnet_interactive": {
     "language": "csharp"
    },
    "polyglot_notebook": {
     "kernelName": "csharp"
    }
   },
   "outputs": [
    {
     "name": "stdout",
     "output_type": "stream",
     "text": [
      "True\n",
      "True\n",
      "False\n",
      "True\n",
      "False\n"
     ]
    }
   ],
   "source": [
    "bool? _flag = true;\n",
    "\n",
    "Console.WriteLine(_flag is {});     // True\n",
    "Console.WriteLine(_flag is bool);   // True\n",
    "Console.WriteLine(_flag is null);   // False\n",
    "Console.WriteLine(_flag is true);   // True\n",
    "Console.WriteLine(_flag is false);  // False"
   ]
  },
  {
   "cell_type": "code",
   "execution_count": 15,
   "metadata": {
    "dotnet_interactive": {
     "language": "csharp"
    },
    "polyglot_notebook": {
     "kernelName": "csharp"
    }
   },
   "outputs": [
    {
     "name": "stdout",
     "output_type": "stream",
     "text": [
      "True\n",
      "True\n",
      "False\n",
      "False\n",
      "True\n"
     ]
    }
   ],
   "source": [
    "bool? _flag = false;\n",
    "\n",
    "Console.WriteLine(_flag is {});     // True\n",
    "Console.WriteLine(_flag is bool);   // True\n",
    "Console.WriteLine(_flag is null);   // False\n",
    "Console.WriteLine(_flag is true);   // True\n",
    "Console.WriteLine(_flag is false);  // False"
   ]
  },
  {
   "cell_type": "code",
   "execution_count": 16,
   "metadata": {
    "dotnet_interactive": {
     "language": "csharp"
    },
    "polyglot_notebook": {
     "kernelName": "csharp"
    }
   },
   "outputs": [
    {
     "name": "stdout",
     "output_type": "stream",
     "text": [
      "True\r\n"
     ]
    }
   ],
   "source": [
    "Console.WriteLine(\"string\" is {});     // True"
   ]
  },
  {
   "cell_type": "code",
   "execution_count": 17,
   "metadata": {
    "dotnet_interactive": {
     "language": "csharp"
    },
    "polyglot_notebook": {
     "kernelName": "csharp"
    }
   },
   "outputs": [
    {
     "name": "stdout",
     "output_type": "stream",
     "text": [
      "Hello World\n",
      "Hello World\n"
     ]
    }
   ],
   "source": [
    "class Person\n",
    "{\n",
    "    public string FirstName {get;set;} = \"Tim\";\n",
    "    public string LastName {get;set;} = \"Cook\";\n",
    "\n",
    "    public Address Home {get;set;} = new Address();\n",
    "}\n",
    "\n",
    "class Address{\n",
    "    public string City {get;set;} = \"Dallas\";\n",
    "    public string State {get;set;} = \"TX\";\n",
    "}\n",
    "\n",
    "Person _person = new();\n",
    "if(_person is { FirstName:\"Tim\" })\n",
    "{\n",
    "    Console.WriteLine($\"Hello World\");\n",
    "}\n",
    "\n",
    "if(_person is { FirstName:\"Tim\", Home.City:\"Dallas\"})\n",
    "{\n",
    "    Console.WriteLine($\"Hello World\");\n",
    "}\n"
   ]
  },
  {
   "cell_type": "code",
   "execution_count": 20,
   "metadata": {
    "dotnet_interactive": {
     "language": "csharp"
    },
    "polyglot_notebook": {
     "kernelName": "csharp"
    }
   },
   "outputs": [
    {
     "name": "stdout",
     "output_type": "stream",
     "text": [
      "prime number\n",
      "True\n",
      "True\n"
     ]
    }
   ],
   "source": [
    "int _number = 3;\n",
    "\n",
    "if(_number is 2 or 3 or 5 or 7) \n",
    "{\n",
    "    Console.WriteLine(\"prime number\");\n",
    "}\n",
    "\n",
    "(_number is >= 2).Dump();  // 和_numer >= 2一样，只是使用模式匹配来做\n",
    "(_number is >= 2 and <=5 ).Dump();  // 和 2 <= _numer && _number <= 5一样，只是使用模式匹配来做"
   ]
  },
  {
   "cell_type": "markdown",
   "metadata": {},
   "source": [
    "对 Tuple 进行批量比较\n"
   ]
  },
  {
   "cell_type": "code",
   "execution_count": 30,
   "metadata": {
    "dotnet_interactive": {
     "language": "csharp"
    },
    "polyglot_notebook": {
     "kernelName": "csharp"
    }
   },
   "outputs": [
    {
     "name": "stdout",
     "output_type": "stream",
     "text": [
      "False\n",
      "True\n",
      "True\n",
      "True\n"
     ]
    }
   ],
   "source": [
    "(int, int) _tuple = (3, 5);\n",
    "\n",
    "(_tuple is (>2, <4)).Dump(); // 3 > 2 but 5 > 4\n",
    "(_tuple is (>2, >4)).Dump(); // 3 > 2 and 5 > 4\n",
    "(_tuple is (>2, _)).Dump();  // 表示忽略对5的比较\n",
    "(_tuple is (>2, not 4)).Dump();  // 5 != 4"
   ]
  },
  {
   "cell_type": "code",
   "execution_count": 29,
   "metadata": {
    "dotnet_interactive": {
     "language": "csharp"
    },
    "polyglot_notebook": {
     "kernelName": "csharp"
    }
   },
   "outputs": [
    {
     "name": "stdout",
     "output_type": "stream",
     "text": [
      "True\r\n"
     ]
    }
   ],
   "source": [
    "byte[] _array = [1, 3, 5, 7];\n",
    "(_array is [1, not 2, <6, >=6]).Dump();"
   ]
  }
 ],
 "metadata": {
  "kernelspec": {
   "display_name": ".NET (C#)",
   "language": "C#",
   "name": ".net-csharp"
  },
  "language_info": {
   "name": "polyglot-notebook"
  },
  "polyglot_notebook": {
   "kernelInfo": {
    "defaultKernelName": "csharp",
    "items": [
     {
      "aliases": [],
      "languageName": "csharp",
      "name": "csharp"
     }
    ]
   }
  }
 },
 "nbformat": 4,
 "nbformat_minor": 2
}
