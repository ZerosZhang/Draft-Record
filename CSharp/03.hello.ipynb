{
 "cells": [
  {
   "cell_type": "code",
   "execution_count": 11,
   "metadata": {
    "dotnet_interactive": {
     "language": "csharp"
    },
    "polyglot_notebook": {
     "kernelName": "csharp"
    },
    "vscode": {
     "languageId": "polyglot-notebook"
    }
   },
   "outputs": [
    {
     "name": "stdout",
     "output_type": "stream",
     "text": [
      "Hello World\r\n"
     ]
    }
   ],
   "source": [
    "Console.WriteLine(\"Hello World\");"
   ]
  },
  {
   "cell_type": "code",
   "execution_count": 12,
   "metadata": {
    "dotnet_interactive": {
     "language": "csharp"
    },
    "polyglot_notebook": {
     "kernelName": "csharp"
    },
    "vscode": {
     "languageId": "polyglot-notebook"
    }
   },
   "outputs": [
    {
     "name": "stdout",
     "output_type": "stream",
     "text": [
      "Debug:测试日志\n",
      "Info:测试日志\n",
      "Warning:测试日志\n",
      "Error:测试日志\n",
      "Info:当前时间:2024-04-02 09:48:07\n",
      "Debug:【BaseTimer】倒计时开启...\n",
      "Debug:【BaseTimer】倒计时正常结束\n",
      "Info:当前时间:2024-04-02 09:48:12\n"
     ]
    }
   ],
   "source": [
    "#! dotnet-script\n",
    "#load \"LoadBaseTool.csx\"\n",
    "using BaseTool;\n",
    "\n",
    "// 测试日志\n",
    "BaseLog.SendLog(\"测试日志\", LogLevel.Debug);\n",
    "BaseLog.SendLog(\"测试日志\", LogLevel.Info);\n",
    "BaseLog.SendLog(\"测试日志\", LogLevel.Warning);\n",
    "BaseLog.SendLog(\"测试日志\", LogLevel.Error);\n",
    "\n",
    "// 测试倒计时5秒的功能\n",
    "BaseLog.SendLog($\"当前时间:{DateTime.Now:yyyy-MM-dd HH:mm:ss}\", LogLevel.Info);\n",
    "BaseTimer _time = new BaseTimer(5000);\n",
    "_time.TimerStart();\n",
    "while (!_time.StateOver) ;\n",
    "BaseLog.SendLog($\"当前时间:{DateTime.Now:yyyy-MM-dd HH:mm:ss}\", LogLevel.Info);"
   ]
  }
 ],
 "metadata": {
  "language_info": {
   "name": "csharp"
  }
 },
 "nbformat": 4,
 "nbformat_minor": 2
}
