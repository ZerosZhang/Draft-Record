{
 "cells": [
  {
   "cell_type": "code",
   "execution_count": 1,
   "metadata": {
    "dotnet_interactive": {
     "language": "csharp"
    },
    "polyglot_notebook": {
     "kernelName": "csharp"
    },
    "vscode": {
     "languageId": "polyglot-notebook"
    }
   },
   "outputs": [
    {
     "name": "stdout",
     "output_type": "stream",
     "text": [
      "Info:执行函数1\n",
      "Info:执行函数2\n"
     ]
    }
   ],
   "source": [
    "#load \"LoadBaseTool.csx\"\n",
    "using BaseTool;\n",
    "\n",
    "Action mAction = null;\n",
    "\n",
    "public void Function1()\n",
    "{\n",
    "    BaseLog.SendLog(\"执行函数1\", LogLevel.Info);\n",
    "}\n",
    "\n",
    "public void Function2()\n",
    "{\n",
    "    BaseLog.SendLog(\"执行函数2\", LogLevel.Info);\n",
    "}\n",
    "\n",
    "mAction += Function1;\n",
    "mAction += Function2;\n",
    "\n",
    "mAction?.Invoke();"
   ]
  }
 ],
 "metadata": {
  "language_info": {
   "name": "csharp"
  }
 },
 "nbformat": 4,
 "nbformat_minor": 2
}
