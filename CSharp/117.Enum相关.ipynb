{
 "cells": [
  {
   "cell_type": "markdown",
   "metadata": {},
   "source": [
    "## `Enum` 定义 `Flags` 特性"
   ]
  },
  {
   "cell_type": "code",
   "execution_count": 1,
   "metadata": {
    "dotnet_interactive": {
     "language": "csharp"
    },
    "polyglot_notebook": {
     "kernelName": "csharp"
    }
   },
   "outputs": [
    {
     "name": "stdout",
     "output_type": "stream",
     "text": [
      "未定义 Flag 特性:\n",
      "  0 - None\n",
      "  1 - Black\n",
      "  2 - Red\n",
      "  3 - 3\n",
      "  4 - Green\n",
      "  5 - 5\n",
      "  6 - 6\n",
      "  7 - 7\n",
      "  8 - Blue\n",
      "  9 - 9\n",
      " 10 - 10\n",
      " 11 - 11\n",
      " 12 - 12\n",
      " 13 - 13\n",
      " 14 - 14\n",
      " 15 - 15\n",
      " 16 - 16\n",
      "\n",
      "定义 Flag 特性:\n",
      "  0 - None\n",
      "  1 - Black\n",
      "  2 - Red\n",
      "  3 - Black, Red\n",
      "  4 - Green\n",
      "  5 - Black, Green\n",
      "  6 - Red, Green\n",
      "  7 - Black, Red, Green\n",
      "  8 - Blue\n",
      "  9 - Black, Blue\n",
      " 10 - Red, Blue\n",
      " 11 - Black, Red, Blue\n",
      " 12 - Green, Blue\n",
      " 13 - Black, Green, Blue\n",
      " 14 - Red, Green, Blue\n",
      " 15 - Black, Red, Green, Blue\n",
      " 16 - 16\n"
     ]
    }
   ],
   "source": [
    "enum SingleHue : short\n",
    "{\n",
    "    None = 0,\n",
    "    Black = 1,\n",
    "    Red = 2,\n",
    "    Green = 4,\n",
    "    Blue = 8\n",
    "};\n",
    "\n",
    "[Flags]\n",
    "enum MultiHue : short\n",
    "{\n",
    "    None = 0,\n",
    "    Black = 1,\n",
    "    Red = 2,\n",
    "    Green = 4,\n",
    "    Blue = 8\n",
    "};\n",
    "\n",
    "\n",
    "Console.WriteLine(\"未定义 Flag 特性:\");\n",
    "for (int val = 0; val <= 16; val++)\n",
    "    Console.WriteLine(\"{0,3} - {1:G}\", val, (SingleHue)val);\n",
    "\n",
    "Console.WriteLine();\n",
    "Console.WriteLine(\"定义 Flag 特性:\");\n",
    "for (int val = 0; val <= 16; val++)\n",
    "    Console.WriteLine(\"{0,3} - {1:G}\", val, (MultiHue)val);\n"
   ]
  }
 ],
 "metadata": {
  "kernelspec": {
   "display_name": ".NET (C#)",
   "language": "C#",
   "name": ".net-csharp"
  },
  "language_info": {
   "name": "polyglot-notebook"
  },
  "polyglot_notebook": {
   "kernelInfo": {
    "defaultKernelName": "csharp",
    "items": [
     {
      "aliases": [],
      "languageName": "csharp",
      "name": "csharp"
     }
    ]
   }
  }
 },
 "nbformat": 4,
 "nbformat_minor": 2
}
