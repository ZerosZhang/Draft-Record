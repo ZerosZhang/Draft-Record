{
 "cells": [
  {
   "cell_type": "code",
   "execution_count": 3,
   "metadata": {
    "dotnet_interactive": {
     "language": "csharp"
    },
    "polyglot_notebook": {
     "kernelName": "csharp"
    },
    "vscode": {
     "languageId": "polyglot-notebook"
    }
   },
   "outputs": [],
   "source": [
    "#load \"LoadBaseToolWPF.csx\"\n",
    "\n",
    "using BaseTool;"
   ]
  },
  {
   "cell_type": "code",
   "execution_count": 5,
   "metadata": {
    "dotnet_interactive": {
     "language": "csharp"
    },
    "polyglot_notebook": {
     "kernelName": "csharp"
    },
    "vscode": {
     "languageId": "polyglot-notebook"
    }
   },
   "outputs": [],
   "source": [
    "public class Base\n",
    "{\n",
    "    public override string ToString()\n",
    "    {\n",
    "        return \"Base\";\n",
    "    }\n",
    "}\n",
    "\n",
    "public class A:Base\n",
    "{\n",
    "    public override string ToString()\n",
    "    {\n",
    "        return \"A\";\n",
    "    }\n",
    "}\n",
    "\n",
    "public class B:Base\n",
    "{\n",
    "    public override string ToString()\n",
    "    {\n",
    "        return \"B\";\n",
    "    }\n",
    "}"
   ]
  },
  {
   "cell_type": "code",
   "execution_count": 7,
   "metadata": {
    "dotnet_interactive": {
     "language": "csharp"
    },
    "polyglot_notebook": {
     "kernelName": "csharp"
    },
    "vscode": {
     "languageId": "polyglot-notebook"
    }
   },
   "outputs": [],
   "source": [
    "public void FormatShow(Base _obj)\n",
    "{\n",
    "    _obj.Dump();\n",
    "}\n",
    "\n",
    "public void FormatShow(A _obj)\n",
    "{\n",
    "    _obj.Dump();\n",
    "}\n",
    "\n",
    "public void FormatShow(B _obj)\n",
    "{\n",
    "    _obj.Dump();\n",
    "}"
   ]
  },
  {
   "cell_type": "code",
   "execution_count": 8,
   "metadata": {
    "dotnet_interactive": {
     "language": "csharp"
    },
    "polyglot_notebook": {
     "kernelName": "csharp"
    },
    "vscode": {
     "languageId": "polyglot-notebook"
    }
   },
   "outputs": [
    {
     "name": "stdout",
     "output_type": "stream",
     "text": [
      "A\r\n"
     ]
    }
   ],
   "source": [
    "Base _obj = new A();\n",
    "FormatShow(_obj);"
   ]
  }
 ],
 "metadata": {
  "language_info": {
   "name": "python"
  }
 },
 "nbformat": 4,
 "nbformat_minor": 2
}
