{
 "cells": [
  {
   "cell_type": "code",
   "execution_count": 16,
   "metadata": {
    "dotnet_interactive": {
     "language": "csharp"
    },
    "polyglot_notebook": {
     "kernelName": "csharp"
    },
    "vscode": {
     "languageId": "polyglot-notebook"
    }
   },
   "outputs": [
    {
     "name": "stdout",
     "output_type": "stream",
     "text": [
      "2, 3, 4, 5\n",
      "1, 2\n"
     ]
    }
   ],
   "source": [
    "#load \"LoadBaseTool.csx\"\n",
    "\n",
    "byte[] _array = [1, 2, 3, 4, 5];\n",
    "byte[] _sub1 = _array[1.._array.Length]; // 左闭右开\n",
    "_sub1.Dump();\n",
    "\n",
    "int _start = 0;\n",
    "int _length = 2;\n",
    "byte[] _sub2 = _array[_start..(_start + _length)];\n",
    "_sub2.Dump();"
   ]
  }
 ],
 "metadata": {
  "language_info": {
   "name": "csharp"
  }
 },
 "nbformat": 4,
 "nbformat_minor": 2
}
