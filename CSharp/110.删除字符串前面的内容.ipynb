{
 "cells": [
  {
   "cell_type": "code",
   "execution_count": 7,
   "metadata": {
    "dotnet_interactive": {
     "language": "csharp"
    },
    "polyglot_notebook": {
     "kernelName": "csharp"
    },
    "vscode": {
     "languageId": "polyglot-notebook"
    }
   },
   "outputs": [],
   "source": [
    "#load \"LoadBaseToolWPF.csx\"\n",
    "using BaseTool;"
   ]
  },
  {
   "cell_type": "markdown",
   "metadata": {},
   "source": [
    "## Environment.NewLine\n"
   ]
  },
  {
   "cell_type": "markdown",
   "metadata": {},
   "source": []
  },
  {
   "cell_type": "markdown",
   "metadata": {},
   "source": [
    "`Environment.NewLine`可以去除字符串开头的`\\n`\n"
   ]
  },
  {
   "cell_type": "code",
   "execution_count": 16,
   "metadata": {
    "dotnet_interactive": {
     "language": "csharp"
    },
    "polyglot_notebook": {
     "kernelName": "csharp"
    },
    "vscode": {
     "languageId": "polyglot-notebook"
    }
   },
   "outputs": [
    {
     "name": "stdout",
     "output_type": "stream",
     "text": [
      "\n",
      "12345\n",
      "12345\n"
     ]
    }
   ],
   "source": [
    "string _str1 = \"\\n12345\";\n",
    "string _str11 = _str1.TrimStart(Environment.NewLine.ToCharArray());\n",
    "_str1.Dump();\n",
    "_str11.Dump();"
   ]
  },
  {
   "cell_type": "markdown",
   "metadata": {},
   "source": [
    "`Environment.NewLine`可以去除字符串开头的`\\r`\n",
    "\n",
    "> 这里我不确定，因为`\\r`好像原来就没显示"
   ]
  },
  {
   "cell_type": "code",
   "execution_count": 15,
   "metadata": {
    "dotnet_interactive": {
     "language": "csharp"
    },
    "polyglot_notebook": {
     "kernelName": "csharp"
    },
    "vscode": {
     "languageId": "polyglot-notebook"
    }
   },
   "outputs": [
    {
     "name": "stdout",
     "output_type": "stream",
     "text": [
      "12345\n",
      "12345\n"
     ]
    }
   ],
   "source": [
    "string _str2 = \"\\r12345\";\n",
    "string _str22 = _str2.TrimStart(Environment.NewLine.ToCharArray());\n",
    "_str2.Dump();\n",
    "_str22.Dump();"
   ]
  },
  {
   "cell_type": "markdown",
   "metadata": {},
   "source": [
    "`Environment.NewLine`可以去除字符串开头的`\\r\\n`\n"
   ]
  },
  {
   "cell_type": "code",
   "execution_count": 11,
   "metadata": {
    "dotnet_interactive": {
     "language": "csharp"
    },
    "polyglot_notebook": {
     "kernelName": "csharp"
    },
    "vscode": {
     "languageId": "polyglot-notebook"
    }
   },
   "outputs": [
    {
     "name": "stdout",
     "output_type": "stream",
     "text": [
      "\n",
      "12345\n",
      "12345\n"
     ]
    }
   ],
   "source": [
    "string _str3 = \"\\r\\n12345\";\n",
    "string _str33 = _str3.TrimStart(Environment.NewLine.ToCharArray());\n",
    "_str3.Dump();\n",
    "_str33.Dump();"
   ]
  },
  {
   "cell_type": "markdown",
   "metadata": {},
   "source": [
    "字符串中间的`\\r\\n`不行"
   ]
  },
  {
   "cell_type": "code",
   "execution_count": 12,
   "metadata": {
    "dotnet_interactive": {
     "language": "csharp"
    },
    "polyglot_notebook": {
     "kernelName": "csharp"
    },
    "vscode": {
     "languageId": "polyglot-notebook"
    }
   },
   "outputs": [
    {
     "name": "stdout",
     "output_type": "stream",
     "text": [
      "123\n",
      "45\n",
      "123\n",
      "45\n"
     ]
    }
   ],
   "source": [
    "string _str4 = \"123\\r\\n45\";\n",
    "string _str44 = _str4.Trim(Environment.NewLine.ToCharArray());\n",
    "\n",
    "_str4.Dump();\n",
    "_str44.Dump();"
   ]
  }
 ],
 "metadata": {
  "language_info": {
   "name": "python"
  }
 },
 "nbformat": 4,
 "nbformat_minor": 2
}
