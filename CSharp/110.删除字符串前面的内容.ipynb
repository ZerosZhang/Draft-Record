{
 "cells": [
  {
   "cell_type": "code",
   "execution_count": 2,
   "metadata": {
    "dotnet_interactive": {
     "language": "csharp"
    },
    "polyglot_notebook": {
     "kernelName": "csharp"
    },
    "vscode": {
     "languageId": "polyglot-notebook"
    }
   },
   "outputs": [],
   "source": [
    "#load \"LoadBaseToolWPF.csx\"\n",
    "using BaseTool;"
   ]
  },
  {
   "cell_type": "markdown",
   "metadata": {},
   "source": [
    "## Environment.NewLine\n"
   ]
  },
  {
   "cell_type": "code",
   "execution_count": 10,
   "metadata": {
    "dotnet_interactive": {
     "language": "csharp"
    },
    "polyglot_notebook": {
     "kernelName": "csharp"
    },
    "vscode": {
     "languageId": "polyglot-notebook"
    }
   },
   "outputs": [
    {
     "name": "stdout",
     "output_type": "stream",
     "text": [
      "\n",
      "12345\n",
      "12345\n",
      "12345\n",
      "12345\n",
      "\n",
      "12345\n",
      "12345\n",
      "123\n",
      "45\n",
      "123\n",
      "45\n"
     ]
    }
   ],
   "source": [
    "string _str1 = \"\\n12345\";\n",
    "string _str2 = \"\\r12345\";\n",
    "string _str3 = \"\\r\\n12345\";\n",
    "string _str4 = \"123\\r\\n45\";\n",
    "\n",
    "string _str11 = _str1.TrimStart(Environment.NewLine.ToCharArray());\n",
    "string _str22 = _str2.TrimStart(Environment.NewLine.ToCharArray());\n",
    "string _str33 = _str3.TrimStart(Environment.NewLine.ToCharArray());\n",
    "string _str44 = _str4.Trim(Environment.NewLine.ToCharArray());\n",
    "\n",
    "_str1.Dump();\n",
    "_str11.Dump();\n",
    "\n",
    "_str2.Dump();\n",
    "_str22.Dump();\n",
    "\n",
    "_str3.Dump();\n",
    "_str33.Dump();\n",
    "\n",
    "// 字符串中间的 \\r\\n 去不掉\n",
    "_str4.Dump();\n",
    "_str44.Dump();"
   ]
  }
 ],
 "metadata": {
  "language_info": {
   "name": "python"
  }
 },
 "nbformat": 4,
 "nbformat_minor": 2
}
