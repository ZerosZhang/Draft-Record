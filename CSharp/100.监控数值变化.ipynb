{
 "cells": [
  {
   "cell_type": "code",
   "execution_count": 1,
   "metadata": {
    "dotnet_interactive": {
     "language": "csharp"
    },
    "polyglot_notebook": {
     "kernelName": "csharp"
    },
    "vscode": {
     "languageId": "polyglot-notebook"
    }
   },
   "outputs": [
    {
     "name": "stdout",
     "output_type": "stream",
     "text": [
      "Info:当前数值为：10\n",
      "Warning:数值发生了改变...\n",
      "Info:当前数值为：11\n"
     ]
    }
   ],
   "source": [
    "#load \"LoadBaseTool.csx\"\n",
    "using BaseTool;\n",
    "\n",
    "class ValueChanged<ValueType>\n",
    "{\n",
    "    private ValueType mValue;\n",
    "    public Action OnMyValueChanged;\n",
    "\n",
    "    public ValueChanged(ValueType _init_value)\n",
    "    {\n",
    "        mValue = _init_value;   // 设置初始值\n",
    "    }\n",
    "\n",
    "    public void SetValue(ValueType _new_value)\n",
    "    {\n",
    "        if (!mValue.Equals(_new_value))\n",
    "        {\n",
    "            mValue = _new_value;\n",
    "            OnMyValueChanged?.Invoke();\n",
    "        }\n",
    "    }\n",
    "\n",
    "    public override string ToString()\n",
    "    {\n",
    "        return $\"{mValue}\";\n",
    "    }\n",
    "}\n",
    "\n",
    "\n",
    "// 测试代码\n",
    "public void ValueChangedFunction()\n",
    "{\n",
    "    BaseLog.SendLog(\"数值发生了改变...\", LogLevel.Warning);\n",
    "}\n",
    "\n",
    "ValueChanged<int> _variable = new ValueChanged<int>(10);\n",
    "_variable.OnMyValueChanged += ValueChangedFunction;\n",
    "BaseLog.SendLog($\"当前数值为：{_variable}\", LogLevel.Info);\n",
    "_variable.SetValue(11);\n",
    "BaseLog.SendLog($\"当前数值为：{_variable}\", LogLevel.Info);"
   ]
  }
 ],
 "metadata": {
  "language_info": {
   "name": "csharp"
  }
 },
 "nbformat": 4,
 "nbformat_minor": 2
}
