{
 "cells": [
  {
   "cell_type": "code",
   "execution_count": 1,
   "metadata": {
    "dotnet_interactive": {
     "language": "csharp"
    },
    "polyglot_notebook": {
     "kernelName": "csharp"
    },
    "vscode": {
     "languageId": "polyglot-notebook"
    }
   },
   "outputs": [
    {
     "name": "stdout",
     "output_type": "stream",
     "text": [
      "Info:2024/4/2 9:44:21\n",
      "Info:2024/4/2\n",
      "Info:2024年4月2日\n",
      "Info:2024年4月2日 9:44\n",
      "Info:2024年4月2日 9:44:21\n",
      "Info:2024/4/2 9:44\n",
      "Info:2024/4/2 9:44:21\n",
      "Info:9:44\n",
      "Info:9:44:21\n",
      "Info:2024-04-02 09:44:21Z\n",
      "Info:2024年4月2日 1:44:21\n",
      "Info:4月2日\n",
      "Info:4月2日\n",
      "Info:Tue, 02 Apr 2024 09:44:21 GMT\n",
      "Info:Tue, 02 Apr 2024 09:44:21 GMT\n",
      "Info:2024年4月\n",
      "Info:2024年4月\n",
      "Info:2024-04-02T09:44:21.3462664+08:00\n",
      "Info:2024-04-02T09:44:21.3466460+08:00\n",
      "Info:2024-04-02T09:44:21\n",
      "Info:2024-04-02 09:44:21.34\n"
     ]
    }
   ],
   "source": [
    "#! dotnet-script\n",
    "#load \"LoadBaseTool.csx\"\n",
    "using BaseTool;\n",
    "\n",
    "BaseLog.SendLog(DateTime.Now.ToString(), LogLevel.Info);\n",
    "BaseLog.SendLog(DateTime.Now.ToString(\"d\"), LogLevel.Info);\n",
    "BaseLog.SendLog(DateTime.Now.ToString(\"D\"), LogLevel.Info);\n",
    "BaseLog.SendLog(DateTime.Now.ToString(\"f\"), LogLevel.Info);\n",
    "BaseLog.SendLog(DateTime.Now.ToString(\"F\"), LogLevel.Info);\n",
    "BaseLog.SendLog(DateTime.Now.ToString(\"g\"), LogLevel.Info);\n",
    "BaseLog.SendLog(DateTime.Now.ToString(\"G\"), LogLevel.Info);\n",
    "BaseLog.SendLog(DateTime.Now.ToString(\"t\"), LogLevel.Info);\n",
    "BaseLog.SendLog(DateTime.Now.ToString(\"T\"), LogLevel.Info);\n",
    "BaseLog.SendLog(DateTime.Now.ToString(\"u\"), LogLevel.Info);\n",
    "BaseLog.SendLog(DateTime.Now.ToString(\"U\"), LogLevel.Info);\n",
    "BaseLog.SendLog(DateTime.Now.ToString(\"m\"), LogLevel.Info);\n",
    "BaseLog.SendLog(DateTime.Now.ToString(\"M\"), LogLevel.Info);\n",
    "BaseLog.SendLog(DateTime.Now.ToString(\"r\"), LogLevel.Info);\n",
    "BaseLog.SendLog(DateTime.Now.ToString(\"R\"), LogLevel.Info);\n",
    "BaseLog.SendLog(DateTime.Now.ToString(\"y\"), LogLevel.Info);\n",
    "BaseLog.SendLog(DateTime.Now.ToString(\"Y\"), LogLevel.Info);\n",
    "BaseLog.SendLog(DateTime.Now.ToString(\"o\"), LogLevel.Info);\n",
    "BaseLog.SendLog(DateTime.Now.ToString(\"O\"), LogLevel.Info);\n",
    "BaseLog.SendLog(DateTime.Now.ToString(\"s\"), LogLevel.Info);\n",
    "BaseLog.SendLog(DateTime.Now.ToString(\"yyyy-MM-dd HH:mm:ss.ff\"), LogLevel.Info);"
   ]
  }
 ],
 "metadata": {
  "language_info": {
   "name": "csharp"
  }
 },
 "nbformat": 4,
 "nbformat_minor": 2
}
