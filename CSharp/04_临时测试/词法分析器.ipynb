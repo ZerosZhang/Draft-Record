{
 "cells": [
  {
   "cell_type": "code",
   "execution_count": null,
   "metadata": {
    "dotnet_interactive": {
     "language": "csharp"
    },
    "polyglot_notebook": {
     "kernelName": "csharp"
    }
   },
   "outputs": [],
   "source": [
    "public enum TokenType\n",
    "{\n",
    "    LineStart,\n",
    "    Inline,\n",
    "    CrossLine\n",
    "}"
   ]
  },
  {
   "cell_type": "code",
   "execution_count": null,
   "metadata": {
    "dotnet_interactive": {
     "language": "csharp"
    },
    "polyglot_notebook": {
     "kernelName": "csharp"
    }
   },
   "outputs": [],
   "source": [
    "// 定义词法单元类\n",
    "public class Token\n",
    "{\n",
    "    public TokenType Type { get; set; }\n",
    "    public string Value { get; set; }\n",
    "\n",
    "    public Token(TokenType type, string value)\n",
    "    {\n",
    "        Type = type;\n",
    "        Value = value;\n",
    "    }\n",
    "\n",
    "    public override string ToString()\n",
    "    {\n",
    "        return $\"Token({Type}, '{Value}')\";\n",
    "    }\n",
    "}"
   ]
  },
  {
   "cell_type": "code",
   "execution_count": null,
   "metadata": {
    "dotnet_interactive": {
     "language": "csharp"
    },
    "polyglot_notebook": {
     "kernelName": "csharp"
    }
   },
   "outputs": [],
   "source": [
    "// 词法分析器类\n",
    "public class Lexer\n",
    "{\n",
    "    private string input;\n",
    "    private int position;\n",
    "\n",
    "    public Lexer(string input)\n",
    "    {\n",
    "        this.input = input;\n",
    "        this.position = 0;\n",
    "    }\n",
    "\n",
    "    private char CurrentChar => position < input.Length ? input[position] : '\\0';\n",
    "\n",
    "    private void Advance()\n",
    "    {\n",
    "        position++;\n",
    "    }\n",
    "\n",
    "    public Token GetNextToken()\n",
    "    {\n",
    "        // 跳过空白字符\n",
    "        while (char.IsWhiteSpace(CurrentChar))\n",
    "        {\n",
    "            Advance();\n",
    "        }\n",
    "\n",
    "        if (position >= input.Length)\n",
    "        {\n",
    "            return new Token(TokenType.EndOfFile, \"\");\n",
    "        }\n",
    "\n",
    "        if (char.IsDigit(CurrentChar))\n",
    "        {\n",
    "            string number = \"\";\n",
    "            while (char.IsDigit(CurrentChar))\n",
    "            {\n",
    "                number += CurrentChar;\n",
    "                Advance();\n",
    "            }\n",
    "            return new Token(TokenType.Number, number);\n",
    "        }\n",
    "\n",
    "        if (char.IsLetter(CurrentChar))\n",
    "        {\n",
    "            string identifier = \"\";\n",
    "            while (char.IsLetterOrDigit(CurrentChar))\n",
    "            {\n",
    "                identifier += CurrentChar;\n",
    "                Advance();\n",
    "            }\n",
    "            return new Token(TokenType.Identifier, identifier);\n",
    "        }\n",
    "\n",
    "        char op = CurrentChar;\n",
    "        Advance();\n",
    "        return new Token(TokenType.Operator, op.ToString());\n",
    "    }\n",
    "\n",
    "    public List<Token> Tokenize()\n",
    "    {\n",
    "        List<Token> tokens = new List<Token>();\n",
    "        Token token;\n",
    "        do\n",
    "        {\n",
    "            token = GetNextToken();\n",
    "            tokens.Add(token);\n",
    "        } while (token.Type != TokenType.EndOfFile);\n",
    "        return tokens;\n",
    "    }\n",
    "}"
   ]
  },
  {
   "cell_type": "code",
   "execution_count": null,
   "metadata": {
    "dotnet_interactive": {
     "language": "csharp"
    },
    "polyglot_notebook": {
     "kernelName": "csharp"
    }
   },
   "outputs": [],
   "source": [
    "string input = \"1 + 2 * 3\";\n",
    "Lexer lexer = new Lexer(input);\n",
    "List<Token> tokens = lexer.Tokenize();\n",
    "foreach (Token token in tokens)\n",
    "{\n",
    "    Console.WriteLine(token);\n",
    "}"
   ]
  },
  {
   "cell_type": "code",
   "execution_count": null,
   "metadata": {
    "dotnet_interactive": {
     "language": "csharp"
    },
    "polyglot_notebook": {
     "kernelName": "csharp"
    }
   },
   "outputs": [],
   "source": [
    "using System.Text.RegularExpressions;\n",
    "\n",
    "string GetLastWorld(string _string)\n",
    "{\n",
    "    Regex reg = new Regex(@\"(?:^|\\s)+((?:[^ ]*?))\\s+\", RegexOptions.RightToLeft);\n",
    "    return reg.Match(_string).Value.Trim();\n",
    "}\n",
    "\n",
    "string _message = \"Hello  World \";\n",
    "_message.Display();\n",
    "GetLastWorld(_message).Display();"
   ]
  },
  {
   "cell_type": "code",
   "execution_count": null,
   "metadata": {
    "dotnet_interactive": {
     "language": "csharp"
    },
    "polyglot_notebook": {
     "kernelName": "csharp"
    }
   },
   "outputs": [],
   "source": []
  }
 ],
 "metadata": {
  "kernelspec": {
   "display_name": ".NET (C#)",
   "language": "C#",
   "name": ".net-csharp"
  },
  "polyglot_notebook": {
   "kernelInfo": {
    "defaultKernelName": "csharp",
    "items": [
     {
      "aliases": [],
      "languageName": "csharp",
      "name": "csharp"
     }
    ]
   }
  }
 },
 "nbformat": 4,
 "nbformat_minor": 2
}
