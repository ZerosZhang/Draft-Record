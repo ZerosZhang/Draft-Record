{
 "cells": [
  {
   "cell_type": "code",
   "execution_count": null,
   "metadata": {
    "dotnet_interactive": {
     "language": "csharp"
    },
    "polyglot_notebook": {
     "kernelName": "csharp"
    }
   },
   "outputs": [
    {
     "data": {
      "text/html": [
       "<div><div></div><div></div><div><strong>Installed Packages</strong><ul><li><span>SqlSugarCore, 5.1.4.172</span></li></ul></div></div>"
      ]
     },
     "metadata": {},
     "output_type": "display_data"
    }
   ],
   "source": [
    "#r \"nuget: SqlSugarCore\"\n",
    "\n",
    "using SqlSugar;\n",
    "using SqlSugar.DbConvert;"
   ]
  },
  {
   "cell_type": "code",
   "execution_count": null,
   "metadata": {},
   "outputs": [],
   "source": [
    "#nullable enable\n",
    "\n",
    "/// <summary>\n",
    "/// 日志等级\n",
    "/// </summary>\n",
    "public enum LogLevel\n",
    "{\n",
    "    Debug = 0,\n",
    "    Info = 10,\n",
    "    Warning = 20,\n",
    "    Error = 30\n",
    "}\n",
    "\n",
    "/// <summary>\n",
    "/// 日志结构定义，这里为了可以使用ORM框架存入数据库，因此需要增加SugarSQL特性\n",
    "/// </summary>\n",
    "/// <remarks>\n",
    "/// 1. 按日分表，设置分表的名字模板，3个变量必须要有，这么设计为了兼容开始按年，后面改成按月\n",
    "/// 2. SplitField：分表字段 在插入的时候会根据这个字段插入哪个表，在更新删除的时候用这个字段找出相关表\n",
    "/// </remarks>\n",
    "[SplitTable(SplitType.Day)]\n",
    "[SugarTable(\"Log_{year}{month}{day}\")]\n",
    "public class Log\n",
    "{\n",
    "    public Log() { }\n",
    "\n",
    "    /// <summary>\n",
    "    /// 日志时间\n",
    "    /// </summary>\n",
    "    [SplitField]\n",
    "    public DateTime LogTime { get; set; }\n",
    "\n",
    "    /// <summary>\n",
    "    /// 日志等级，显示为Enum字符串\n",
    "    /// </summary>\n",
    "    [SugarColumn(ColumnDataType = \"varchar(20)\", SqlParameterDbType = typeof(EnumToStringConvert))]\n",
    "    public LogLevel LogLevel { get; set; }\n",
    "\n",
    "    /// <summary>\n",
    "    /// 日志标题\n",
    "    /// </summary>\n",
    "    [SugarColumn(ColumnDataType = \"varchar(255)\")]\n",
    "    public string LogMessage { get; set; } = \"\";\n",
    "\n",
    "    /// <summary>\n",
    "    /// 日志细节\n",
    "    /// </summary>\n",
    "    [SugarColumn(ColumnDataType = \"varchar(20000)\")]\n",
    "    public string LogDescription { get; set; } = \"\";\n",
    "\n",
    "    [SugarColumn(IsJson = true)]\n",
    "    public string[] LogDescriptionArray { get; set; } = [];\n",
    "\n",
    "\n",
    "    public Log(LogLevel _level, string _message, string _description)\n",
    "    {\n",
    "        LogTime = DateTime.Now;\n",
    "        LogLevel = _level;\n",
    "        LogMessage = _message;\n",
    "        // LogDescription = _description;\n",
    "    }\n",
    "\n",
    "    public override string ToString()\n",
    "    {\n",
    "        string _log = $\"{LogTime:yyyy年MM月dd日 HH:mm:ss}  {LogLevel,-8}  {LogMessage}\";\n",
    "        return _log;\n",
    "    }\n",
    "}"
   ]
  },
  {
   "cell_type": "code",
   "execution_count": null,
   "metadata": {},
   "outputs": [],
   "source": [
    "\n",
    "\n",
    "SqlSugarClient LogSqlConnection { get; set; }\n",
    "LogSqlConnection = new SqlSugarClient(new ConnectionConfig()\n",
    "{\n",
    "    DbType = DbType.Sqlite,\n",
    "    ConnectionString = $\"DataSource=SQLiteTest.db\",\n",
    "    IsAutoCloseConnection = true,\n",
    "    MoreSettings=new ConnMoreSettings() \n",
    "    {\n",
    "        EnableCodeFirstUpdatePrecision= true,//启用\n",
    "    }\n",
    "});\n",
    "\n",
    "if (!LogSqlConnection.Ado.IsValidConnection()) { throw new Exception(\"连接参数不存在\"); }\n",
    "LogSqlConnection.DbMaintenance.CreateDatabase();      // 创建数据库，如果已存在，则没有任何影响\n",
    "LogSqlConnection.CodeFirst.InitTables(typeof(Log));\n",
    "\n",
    "/// <summary>\n",
    "/// 写入日志到数据库中\n",
    "/// </summary>\n",
    "/// <param name=\"_log\"></param>\n",
    "void WriteLogToDatabase(Log _log)\n",
    "{\n",
    "    if (LogSqlConnection is not null)\n",
    "    {\n",
    "        lock (LogSqlConnection)\n",
    "        {\n",
    "            LogSqlConnection.Insertable(_log).SplitTable().ExecuteCommand();\n",
    "        }\n",
    "    }\n",
    "}"
   ]
  },
  {
   "cell_type": "code",
   "execution_count": null,
   "metadata": {},
   "outputs": [],
   "source": [
    "\n",
    "WriteLogToDatabase(new Log(LogLevel.Info, \"测试\", \"这是一个测试日志\"){LogDescriptionArray = new string[]{\"1\", \"2\", \"3\"}});"
   ]
  }
 ],
 "metadata": {
  "kernelspec": {
   "display_name": ".NET (C#)",
   "language": "C#",
   "name": ".net-csharp"
  },
  "polyglot_notebook": {
   "kernelInfo": {
    "defaultKernelName": "csharp",
    "items": [
     {
      "aliases": [],
      "languageName": "csharp",
      "name": "csharp"
     }
    ]
   }
  }
 },
 "nbformat": 4,
 "nbformat_minor": 2
}
