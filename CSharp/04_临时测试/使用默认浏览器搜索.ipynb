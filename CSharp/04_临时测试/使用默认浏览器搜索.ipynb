{
 "cells": [
  {
   "cell_type": "code",
   "execution_count": null,
   "metadata": {
    "dotnet_interactive": {
     "language": "csharp"
    },
    "polyglot_notebook": {
     "kernelName": "csharp"
    }
   },
   "outputs": [],
   "source": [
    "string GenerateSearchString(string _message)\n",
    "{\n",
    "    return $\"https://www.bing.com/search?q={Uri.EscapeDataString(_message)}\";\n",
    "}"
   ]
  },
  {
   "cell_type": "code",
   "execution_count": null,
   "metadata": {
    "dotnet_interactive": {
     "language": "csharp"
    },
    "polyglot_notebook": {
     "kernelName": "csharp"
    }
   },
   "outputs": [],
   "source": [
    "using System.Diagnostics;\n",
    "\n",
    "string _message = GenerateSearchString(\"Hello World\");\n",
    "\n",
    "// 启动默认浏览器并打开Bing搜索页面\n",
    "Process.Start(new ProcessStartInfo\n",
    "{\n",
    "    FileName = _message,\n",
    "    UseShellExecute = true\n",
    "});"
   ]
  },
  {
   "cell_type": "code",
   "execution_count": null,
   "metadata": {
    "dotnet_interactive": {
     "language": "csharp"
    },
    "polyglot_notebook": {
     "kernelName": "csharp"
    }
   },
   "outputs": [],
   "source": [
    "using System;\n",
    "using System.Diagnostics;\n",
    "using System.Runtime.InteropServices;\n",
    "\n",
    "// 导入Windows API函数\n",
    "[DllImport(\"user32.dll\", SetLastError = true)]\n",
    "static extern bool PostMessage(IntPtr hWnd, uint Msg, IntPtr wParam, IntPtr lParam);\n",
    "\n",
    "// 定义关闭窗口的消息常量\n",
    "const uint WM_CLOSE = 0x0010;\n",
    "\n",
    "// 获取所有名为 \"msedge\" 的进程\n",
    "Process[] edgeProcesses = Process.GetProcessesByName(\"msedge\");\n",
    "edgeProcesses.Length.Display();\n",
    "foreach (Process process in edgeProcesses)\n",
    "{\n",
    "    // 获取进程主窗口的句柄\n",
    "    IntPtr hWnd = process.MainWindowHandle;\n",
    "    if (hWnd != IntPtr.Zero)\n",
    "    {\n",
    "        // 向窗口发送关闭消息\n",
    "        PostMessage(hWnd, WM_CLOSE, IntPtr.Zero, IntPtr.Zero);\n",
    "    }\n",
    "}"
   ]
  },
  {
   "cell_type": "code",
   "execution_count": null,
   "metadata": {
    "dotnet_interactive": {
     "language": "csharp"
    },
    "polyglot_notebook": {
     "kernelName": "csharp"
    }
   },
   "outputs": [],
   "source": []
  }
 ],
 "metadata": {
  "kernelspec": {
   "display_name": ".NET (C#)",
   "language": "C#",
   "name": ".net-csharp"
  },
  "polyglot_notebook": {
   "kernelInfo": {
    "defaultKernelName": "csharp",
    "items": [
     {
      "aliases": [],
      "languageName": "csharp",
      "name": "csharp"
     }
    ]
   }
  }
 },
 "nbformat": 4,
 "nbformat_minor": 2
}
