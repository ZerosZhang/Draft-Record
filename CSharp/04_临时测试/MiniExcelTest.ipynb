{
 "cells": [
  {
   "cell_type": "code",
   "execution_count": null,
   "metadata": {
    "dotnet_interactive": {
     "language": "csharp"
    },
    "polyglot_notebook": {
     "kernelName": "csharp"
    }
   },
   "outputs": [
    {
     "data": {
      "text/html": [
       "<div><div></div><div></div><div><strong>Installed Packages</strong><ul><li><span>MiniExcel, 1.36.0</span></li></ul></div></div>"
      ]
     },
     "metadata": {},
     "output_type": "display_data"
    }
   ],
   "source": [
    "#r \"nuget: MiniExcel\"\n",
    "\n",
    "using System.IO;\n",
    "using MiniExcelLibs;"
   ]
  },
  {
   "cell_type": "code",
   "execution_count": null,
   "metadata": {},
   "outputs": [],
   "source": [
    "using MiniExcelLibs.OpenXml;\n",
    "using System.Diagnostics;\n",
    "\n",
    "class Data\n",
    "{\n",
    "    public string Column1 { get; set; }\n",
    "    public int Column2 { get; set; }\n",
    "}\n",
    "\n",
    "var data = new{\n",
    "    values = new[]{\n",
    "        new Data() { Column1 = \"MiniExcel\", Column2 = 1 },\n",
    "        new Data() { Column1 = \"Github\", Column2 = 2}\n",
    "    }\n",
    "};\n",
    "\n",
    "MiniExcel.SaveAsByTemplate(\"Template1.xlsx\", \"Template.xlsx\", data);\n"
   ]
  },
  {
   "cell_type": "code",
   "execution_count": null,
   "metadata": {
    "dotnet_interactive": {
     "language": "csharp"
    },
    "polyglot_notebook": {
     "kernelName": "csharp"
    }
   },
   "outputs": [
    {
     "data": {
      "text/html": [
       "<div class=\"dni-plaintext\"><pre>310002</pre></div><style>\r\n",
       ".dni-code-hint {\r\n",
       "    font-style: italic;\r\n",
       "    overflow: hidden;\r\n",
       "    white-space: nowrap;\r\n",
       "}\r\n",
       ".dni-treeview {\r\n",
       "    white-space: nowrap;\r\n",
       "}\r\n",
       ".dni-treeview td {\r\n",
       "    vertical-align: top;\r\n",
       "    text-align: start;\r\n",
       "}\r\n",
       "details.dni-treeview {\r\n",
       "    padding-left: 1em;\r\n",
       "}\r\n",
       "table td {\r\n",
       "    text-align: start;\r\n",
       "}\r\n",
       "table tr { \r\n",
       "    vertical-align: top; \r\n",
       "    margin: 0em 0px;\r\n",
       "}\r\n",
       "table tr td pre \r\n",
       "{ \r\n",
       "    vertical-align: top !important; \r\n",
       "    margin: 0em 0px !important;\r\n",
       "} \r\n",
       "table th {\r\n",
       "    text-align: start;\r\n",
       "}\r\n",
       "</style>"
      ]
     },
     "metadata": {},
     "output_type": "display_data"
    },
    {
     "name": "stdout",
     "output_type": "stream",
     "text": [
      "Elapsed time: 1405ms\r\n"
     ]
    }
   ],
   "source": [
    "Stopwatch sw = Stopwatch.StartNew();\n",
    "List<Data> data = MiniExcel.Query<Data>(path).ToList();\n",
    "Data values1 = new Data { Column1 = $\"{DateTime.Now.ToString(\"HH:mm:ss\")}\", Column2 = 1 };\n",
    "for(int i = 0; i < 10000; i++)\n",
    "{\n",
    "    data.Add(values1);\n",
    "}\n",
    "data.Count.Display();\n",
    "MiniExcel.SaveAs(path, data, configuration: config, overwriteFile:true);\n",
    "Console.WriteLine($\"Elapsed time: {sw.ElapsedMilliseconds}ms\");"
   ]
  }
 ],
 "metadata": {
  "kernelspec": {
   "display_name": ".NET (C#)",
   "language": "C#",
   "name": ".net-csharp"
  },
  "polyglot_notebook": {
   "kernelInfo": {
    "defaultKernelName": "csharp",
    "items": [
     {
      "aliases": [],
      "languageName": "csharp",
      "name": "csharp"
     }
    ]
   }
  }
 },
 "nbformat": 4,
 "nbformat_minor": 2
}
