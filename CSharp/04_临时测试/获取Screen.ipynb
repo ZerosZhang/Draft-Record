{
 "cells": [
  {
   "cell_type": "code",
   "execution_count": null,
   "metadata": {
    "dotnet_interactive": {
     "language": "csharp"
    },
    "polyglot_notebook": {
     "kernelName": "csharp"
    }
   },
   "outputs": [],
   "source": [
    "#load \"..\\Extension\\Winform.csx\"\n",
    "using System.Windows.Forms;\n",
    "\n",
    "MessageBox.Show(\"Hello, World!\");"
   ]
  },
  {
   "cell_type": "code",
   "execution_count": null,
   "metadata": {},
   "outputs": [
    {
     "name": "stdout",
     "output_type": "stream",
     "text": [
      "当前电脑连接了 2 个显示器。\n",
      "显示器【1】: 位置(0, 0), 分辨率 1920x1080\n",
      "显示器【2】: 位置(1920, 0), 分辨率 1920x1080\n"
     ]
    }
   ],
   "source": [
    "Screen[] _screens_list = Screen.AllScreens;\n",
    "Console.WriteLine(\"当前电脑连接了 {0} 个显示器。\", _screens_list.Length);\n",
    "for (int i = 0; i < _screens_list.Length; i++)\n",
    "{\n",
    "\tint _width = _screens_list[i].Bounds.Width;\n",
    "\tint _height = _screens_list[i].Bounds.Height;\n",
    "    int _left = _screens_list[i].Bounds.Left;\n",
    "    int _top = _screens_list[i].Bounds.Top;\n",
    "\tConsole.WriteLine($\"显示器【{i + 1}】: 位置({_left}, {_top}), 分辨率 {_width}x{_height}\");\n",
    "}"
   ]
  }
 ],
 "metadata": {
  "kernelspec": {
   "display_name": ".NET (C#)",
   "language": "C#",
   "name": ".net-csharp"
  },
  "polyglot_notebook": {
   "kernelInfo": {
    "defaultKernelName": "csharp",
    "items": [
     {
      "aliases": [],
      "languageName": "csharp",
      "name": "csharp"
     }
    ]
   }
  }
 },
 "nbformat": 4,
 "nbformat_minor": 2
}
