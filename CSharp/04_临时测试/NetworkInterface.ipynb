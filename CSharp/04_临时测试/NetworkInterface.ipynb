{
 "cells": [
  {
   "cell_type": "code",
   "execution_count": null,
   "metadata": {
    "dotnet_interactive": {
     "language": "csharp"
    },
    "polyglot_notebook": {
     "kernelName": "csharp"
    }
   },
   "outputs": [],
   "source": [
    "#load \"..\\Extension\\LoadBaseTool.csx\"\n",
    "using System.Net.NetworkInformation;\n",
    "\n",
    "NetworkInterface[] networkInterfaces = NetworkInterface.GetAllNetworkInterfaces();\n",
    "\n",
    "foreach(NetworkInterface  _item in networkInterfaces)\n",
    "{\n",
    "    Console.WriteLine($\"Name: {_item.Name}\");\n",
    "    Console.WriteLine($\"Description: {_item.Description}\");\n",
    "    Console.WriteLine($\"Type: {_item.NetworkInterfaceType}\");\n",
    "\n",
    "    foreach(UnicastIPAddressInformation  _address in _item.GetIPProperties().UnicastAddresses)\n",
    "    {\n",
    "        Console.WriteLine($\"IP Address: {_address.Address} {_address.Address.AddressFamily}\");\n",
    "    }\n",
    "\n",
    "    Console.WriteLine($\"Mac Address: {_item.GetPhysicalAddress()}\");\n",
    "    Console.WriteLine($\"---------------------------------\");\n",
    "}"
   ]
  }
 ],
 "metadata": {
  "kernelspec": {
   "display_name": ".NET (C#)",
   "language": "C#",
   "name": ".net-csharp"
  },
  "polyglot_notebook": {
   "kernelInfo": {
    "defaultKernelName": "csharp",
    "items": [
     {
      "aliases": [],
      "languageName": "csharp",
      "name": "csharp"
     }
    ]
   }
  }
 },
 "nbformat": 4,
 "nbformat_minor": 2
}
