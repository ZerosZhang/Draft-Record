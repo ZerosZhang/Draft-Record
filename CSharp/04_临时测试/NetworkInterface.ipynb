{
 "cells": [
  {
   "cell_type": "code",
   "execution_count": null,
   "metadata": {
    "dotnet_interactive": {
     "language": "csharp"
    },
    "polyglot_notebook": {
     "kernelName": "csharp"
    }
   },
   "outputs": [
    {
     "name": "stdout",
     "output_type": "stream",
     "text": [
      "Name: 以太网\n",
      "Description: Realtek Gaming 2.5GbE Family Controller\n",
      "Type: Ethernet\n",
      "IP Address: 240e:ec:60bb:1d1:207:8e58:21d6:f6b InterNetworkV6\n",
      "IP Address: 240e:ec:60bb:1d1:2848:e7f4:9b1:1a InterNetworkV6\n",
      "IP Address: 240e:ec:60bb:1d1:7d9f:74fd:ba18:4496 InterNetworkV6\n",
      "IP Address: fe80::a7ed:c123:968:b320%21 InterNetworkV6\n",
      "IP Address: 192.168.2.55 InterNetwork\n",
      "Mac Address: 08BFB86E27BC\n",
      "---------------------------------\n",
      "Name: 本地连接* 1\n",
      "Description: Microsoft Wi-Fi Direct Virtual Adapter\n",
      "Type: Wireless80211\n",
      "IP Address: fe80::ca3d:84c:116f:dac7%22 InterNetworkV6\n",
      "IP Address: 169.254.189.94 InterNetwork\n",
      "Mac Address: 70D823B07DE6\n",
      "---------------------------------\n",
      "Name: 本地连接* 10\n",
      "Description: Microsoft Wi-Fi Direct Virtual Adapter #2\n",
      "Type: Wireless80211\n",
      "IP Address: fe80::25ad:8295:894:4e27%16 InterNetworkV6\n",
      "IP Address: 169.254.139.164 InterNetwork\n",
      "Mac Address: 72D823B07DE5\n",
      "---------------------------------\n",
      "Name: WLAN\n",
      "Description: Intel(R) Wi-Fi 6 AX201 160MHz\n",
      "Type: Wireless80211\n",
      "IP Address: 240e:ec:60bb:1d1:2848:e7f4:9b1:6e InterNetworkV6\n",
      "IP Address: 240e:ec:60bb:1d1:9a3b:f7f1:f54c:c07a InterNetworkV6\n",
      "IP Address: 240e:ec:60bb:1d1:85c3:3b0e:5b2:f452 InterNetworkV6\n",
      "IP Address: fe80::c1a4:b4af:e9a0:f144%4 InterNetworkV6\n",
      "IP Address: 192.168.2.149 InterNetwork\n",
      "Mac Address: 70D823B07DE5\n",
      "---------------------------------\n",
      "Name: 蓝牙网络连接\n",
      "Description: Bluetooth Device (Personal Area Network)\n",
      "Type: Ethernet\n",
      "IP Address: fe80::4954:ef3b:b491:125d%11 InterNetworkV6\n",
      "IP Address: 169.254.72.224 InterNetwork\n",
      "Mac Address: 70D823B07DE9\n",
      "---------------------------------\n",
      "Name: Loopback Pseudo-Interface 1\n",
      "Description: Software Loopback Interface 1\n",
      "Type: Loopback\n",
      "IP Address: ::1 InterNetworkV6\n",
      "IP Address: 127.0.0.1 InterNetwork\n",
      "Mac Address: \n",
      "---------------------------------\n",
      "Name: vEthernet (Default Switch)\n",
      "Description: Hyper-V Virtual Ethernet Adapter\n",
      "Type: Ethernet\n",
      "IP Address: fe80::1278:be3d:236a:937c%23 InterNetworkV6\n",
      "IP Address: 172.24.48.1 InterNetwork\n",
      "Mac Address: 00155DF63EB1\n",
      "---------------------------------\n"
     ]
    }
   ],
   "source": [
    "#load \"..\\Extension\\LoadBaseTool.csx\"\n",
    "using System.Net.NetworkInformation;\n",
    "\n",
    "NetworkInterface[] networkInterfaces = NetworkInterface.GetAllNetworkInterfaces();\n",
    "\n",
    "foreach(NetworkInterface  _item in networkInterfaces)\n",
    "{\n",
    "    Console.WriteLine($\"Name: {_item.Name}\");\n",
    "    Console.WriteLine($\"Description: {_item.Description}\");\n",
    "    Console.WriteLine($\"Type: {_item.NetworkInterfaceType}\");\n",
    "\n",
    "    foreach(UnicastIPAddressInformation  _address in _item.GetIPProperties().UnicastAddresses)\n",
    "    {\n",
    "        Console.WriteLine($\"IP Address: {_address.Address} {_address.Address.AddressFamily}\");\n",
    "    }\n",
    "\n",
    "    Console.WriteLine($\"Mac Address: {_item.GetPhysicalAddress()}\");\n",
    "    Console.WriteLine($\"---------------------------------\");\n",
    "}"
   ]
  }
 ],
 "metadata": {
  "kernelspec": {
   "display_name": ".NET (C#)",
   "language": "C#",
   "name": ".net-csharp"
  },
  "polyglot_notebook": {
   "kernelInfo": {
    "defaultKernelName": "csharp",
    "items": [
     {
      "aliases": [],
      "languageName": "csharp",
      "name": "csharp"
     }
    ]
   }
  }
 },
 "nbformat": 4,
 "nbformat_minor": 2
}
