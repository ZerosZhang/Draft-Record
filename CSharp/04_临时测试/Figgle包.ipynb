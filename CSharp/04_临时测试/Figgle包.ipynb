{
 "cells": [
  {
   "cell_type": "code",
   "execution_count": 4,
   "metadata": {
    "dotnet_interactive": {
     "language": "csharp"
    },
    "polyglot_notebook": {
     "kernelName": "csharp"
    }
   },
   "outputs": [
    {
     "data": {
      "text/html": [
       "<div><div></div><div></div><div><strong>Installed Packages</strong><ul><li><span>Figgle, 0.5.1</span></li></ul></div></div>"
      ]
     },
     "metadata": {},
     "output_type": "display_data"
    }
   ],
   "source": [
    "#load \"..\\Extension\\LoadBaseTool.csx\"\n",
    "#r \"nuget: Figgle\"\n",
    "using Figgle;"
   ]
  },
  {
   "cell_type": "code",
   "execution_count": 23,
   "metadata": {
    "dotnet_interactive": {
     "language": "csharp"
    },
    "polyglot_notebook": {
     "kernelName": "csharp"
    }
   },
   "outputs": [],
   "source": [
    "void FiggleComment(string _target)\n",
    "{\n",
    "    string _figgle_string = FiggleFonts.Slant.Render(_target);\n",
    "    string[] _string_array = _figgle_string.Split(Environment.NewLine);\n",
    "\n",
    "    int[] _length_array = _string_array.Select(_item => _item.Length).ToArray();\n",
    "    int _max_length = _length_array.Max();\n",
    "    _max_length.Dump();\n",
    "\n",
    "    int _target_length = _target.Length;\n",
    "    int _left_number = (_max_length + 2 - _target_length) / 2;\n",
    "    int _remind = (_max_length + 2 - _target_length) % 2;\n",
    "    string _head = $\"/{new string('*',_left_number )} {_target} {new string('*',_left_number + _remind )}/\";\n",
    "\n",
    "    _head.Dump();\n",
    "    foreach(string _item in _string_array)\n",
    "    {\n",
    "        if(_item.Length is 0) continue;\n",
    "        $\"/* {_item} */\".Dump();\n",
    "    }\n",
    "    _head.Dump();\n",
    "}\n"
   ]
  },
  {
   "cell_type": "code",
   "execution_count": 31,
   "metadata": {
    "dotnet_interactive": {
     "language": "csharp"
    },
    "polyglot_notebook": {
     "kernelName": "csharp"
    }
   },
   "outputs": [
    {
     "name": "stdout",
     "output_type": "stream",
     "text": [
      "119\n",
      "/************************************************* Handle Message Function *************************************************/\n",
      "/*     __  __                ____        __  ___                                   ______                 __  _            */\n",
      "/*    / / / /___ _____  ____/ / /__     /  |/  /__  ______________ _____ ____     / ____/_  ______  _____/ /_(_)___  ____  */\n",
      "/*   / /_/ / __ `/ __ \\/ __  / / _ \\   / /|_/ / _ \\/ ___/ ___/ __ `/ __ `/ _ \\   / /_  / / / / __ \\/ ___/ __/ / __ \\/ __ \\ */\n",
      "/*  / __  / /_/ / / / / /_/ / /  __/  / /  / /  __(__  |__  ) /_/ / /_/ /  __/  / __/ / /_/ / / / / /__/ /_/ / /_/ / / / / */\n",
      "/* /_/ /_/\\__,_/_/ /_/\\__,_/_/\\___/  /_/  /_/\\___/____/____/\\__,_/\\__, /\\___/  /_/    \\__,_/_/ /_/\\___/\\__/_/\\____/_/ /_/  */\n",
      "/*                                                               /____/                                                    */\n",
      "/************************************************* Handle Message Function *************************************************/\n"
     ]
    }
   ],
   "source": [
    "FiggleComment(\"Handle Message Function\");"
   ]
  }
 ],
 "metadata": {
  "kernelspec": {
   "display_name": ".NET (C#)",
   "language": "C#",
   "name": ".net-csharp"
  },
  "language_info": {
   "name": "polyglot-notebook"
  },
  "polyglot_notebook": {
   "kernelInfo": {
    "defaultKernelName": "csharp",
    "items": [
     {
      "aliases": [],
      "languageName": "csharp",
      "name": "csharp"
     }
    ]
   }
  }
 },
 "nbformat": 4,
 "nbformat_minor": 2
}
