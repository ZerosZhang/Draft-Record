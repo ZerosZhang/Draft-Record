{
 "cells": [
  {
   "cell_type": "code",
   "execution_count": 1,
   "metadata": {
    "dotnet_interactive": {
     "language": "csharp"
    },
    "polyglot_notebook": {
     "kernelName": "csharp"
    },
    "vscode": {
     "languageId": "polyglot-notebook"
    }
   },
   "outputs": [
    {
     "name": "stdout",
     "output_type": "stream",
     "text": [
      "{\"mType\":\"Binary\",\"mData\":[\"0b10101010\"]}\n",
      "{\"mType\":\"Binary\",\"mData\":[\"0b10101010\",\"0b10101010\"]}\n",
      "{\"mType\":\"Int8\",\"mData\":[127]}\n",
      "{\"mType\":\"Int32\",\"mData\":[255,256]}\n",
      "{\"mType\":\"Int64\",\"mData\":[255,256]}\n",
      "{\"mType\":\"Float32\",\"mData\":[23.4]}\n",
      "{\"mType\":\"Float64\",\"mData\":[23.4]}\n",
      "{\"mType\":\"Float64\",\"mData\":[23.399999618530273,32.4]}\n",
      "{\"mType\":\"ASCII\",\"mData\":[\"Hello World\"]}\n",
      "{\"mType\":\"Unicode\",\"mData\":[\"中文测试\"]}\n",
      "{\"mType\":\"List\",\"mData\":[{\"mType\":\"ASCII\",\"mData\":[\"Hello World\"]},{\"mType\":\"ASCII\",\"mData\":[\"Hello World\"]}]}\n",
      "{\"mType\":\"List\",\"mData\":[{\"mType\":\"ASCII\",\"mData\":[\"Hello World\"]},{\"mType\":\"Unicode\",\"mData\":[\"中文测试\"]}]}\n",
      "{\"mType\":\"List\",\"mData\":[{\"mType\":\"Binary\",\"mData\":[\"0b00001111\"]},{\"mType\":\"Boolean\",\"mData\":[false]}]}\n",
      "{\"mType\":\"List\",\"mData\":[{\"mType\":\"Int32\",\"mData\":[1]},{\"mType\":\"Int32\",\"mData\":[2]}]}\n",
      "{\"mType\":\"List\",\"mData\":[]}\n"
     ]
    }
   ],
   "source": [
    "#load \"LoadBaseToolWPF.csx\"\n",
    "\n",
    "using BaseTool;\n",
    "using BaseHSMSTool;\n",
    "\n",
    "SECSItem _item11 = new SECSItem((Binary)0b_1010_1010);\n",
    "_item11.Dump();\n",
    "\n",
    "SECSItem _item12 = new SECSItem((Binary)0b_1010_1010, (Binary)0b_1010_1010);\n",
    "_item12.Dump();\n",
    "\n",
    "SECSItem _item21 = new SECSItem((sbyte)127);\n",
    "_item21.Dump();\n",
    "\n",
    "SECSItem _item22 = new SECSItem(255, 256);\n",
    "_item22.Dump();\n",
    "\n",
    "SECSItem _item23 = new SECSItem(255, (long)256);\n",
    "_item23.Dump();\n",
    "\n",
    "SECSItem _item31 = new SECSItem(23.4f);\n",
    "_item31.Dump();\n",
    "\n",
    "SECSItem _item32 = new SECSItem(23.4);\n",
    "_item32.Dump();\n",
    "\n",
    "SECSItem _item33 = new SECSItem(23.4f, 32.4);\n",
    "_item33.Dump();\n",
    "\n",
    "SECSItem _item41 = new SECSItem(\"Hello World\");\n",
    "_item41.Dump();\n",
    "\n",
    "SECSItem _item42 = new SECSItem(\"中文测试\");\n",
    "_item42.Dump();\n",
    "\n",
    "SECSItem _item44 = new SECSItem(\"Hello World\" ,\"中文测试\");\n",
    "_item44.Dump();\n",
    "\n",
    "SECSItem _item51 = new SECSItem((Binary)0b0000_1111, false);\n",
    "_item51.Dump();\n",
    "\n",
    "SECSItem _item52 = new SECSItem((SECSItem)1, (SECSItem)2);\n",
    "_item52.Dump();\n",
    "\n",
    "SECSItem _item53 = SECSItem.EmptyList;\n",
    "_item53.Dump();\n",
    "\n",
    "BaseLogManager.Close();\n"
   ]
  },
  {
   "cell_type": "code",
   "execution_count": 2,
   "metadata": {
    "dotnet_interactive": {
     "language": "csharp"
    },
    "polyglot_notebook": {
     "kernelName": "csharp"
    },
    "vscode": {
     "languageId": "polyglot-notebook"
    }
   },
   "outputs": [],
   "source": []
  },
  {
   "cell_type": "code",
   "execution_count": 3,
   "metadata": {
    "dotnet_interactive": {
     "language": "csharp"
    },
    "polyglot_notebook": {
     "kernelName": "csharp"
    },
    "vscode": {
     "languageId": "polyglot-notebook"
    }
   },
   "outputs": [],
   "source": []
  },
  {
   "cell_type": "code",
   "execution_count": 4,
   "metadata": {
    "dotnet_interactive": {
     "language": "csharp"
    },
    "polyglot_notebook": {
     "kernelName": "csharp"
    },
    "vscode": {
     "languageId": "polyglot-notebook"
    }
   },
   "outputs": [],
   "source": []
  }
 ],
 "metadata": {
  "language_info": {
   "name": "csharp"
  }
 },
 "nbformat": 4,
 "nbformat_minor": 2
}
