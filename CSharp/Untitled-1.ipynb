{
 "cells": [
  {
   "cell_type": "code",
   "execution_count": null,
   "metadata": {
    "dotnet_interactive": {
     "language": "csharp"
    },
    "polyglot_notebook": {
     "kernelName": "csharp"
    }
   },
   "outputs": [],
   "source": [
    "ulong @ulong = (ulong)uint.MaxValue+1;\n",
    "uint @uint = (uint)@ulong;\n",
    "Console.WriteLine($\"{@ulong:b}\".Length);\n",
    "Console.WriteLine($\"{@uint:b}\");"
   ]
  },
  {
   "cell_type": "code",
   "execution_count": null,
   "metadata": {},
   "outputs": [],
   "source": [
    "ulong @ulong = (ulong)long.MaxValue + 1;\n",
    "long @long = (long)@ulong;\n",
    "Console.WriteLine($\"{$\"{@ulong:b}\".Length}:{@ulong}\");\n",
    "Console.WriteLine($\"{$\"{@long:b}\".Length}:{@long}\");"
   ]
  },
  {
   "cell_type": "code",
   "execution_count": null,
   "metadata": {},
   "outputs": [],
   "source": [
    "int value = 10;\n",
    "public void Add(int _value) => _value ++;\n",
    "Add(value);\n",
    "value.Display();"
   ]
  },
  {
   "cell_type": "code",
   "execution_count": null,
   "metadata": {},
   "outputs": [],
   "source": [
    "(string _string1, string _string2) _tuple = (\"from string 1\", \"from string 2\");\n",
    "\n",
    "_tuple._string1 = \"Hello World\";\n",
    "_tuple.Display();\n",
    "_tuple._string1.Display();\n",
    "_tuple._string2.Display();"
   ]
  },
  {
   "cell_type": "code",
   "execution_count": null,
   "metadata": {},
   "outputs": [],
   "source": [
    "(string _string1, string _string2) = (\"from string 1\", \"from string 2\");\n",
    "_string1.Display();\n",
    "_string2.Display();"
   ]
  },
  {
   "cell_type": "code",
   "execution_count": null,
   "metadata": {
    "dotnet_interactive": {
     "language": "csharp"
    },
    "polyglot_notebook": {
     "kernelName": "csharp"
    }
   },
   "outputs": [
    {
     "data": {
      "text/html": [
       "<div class=\"dni-plaintext\"><pre>3</pre></div><style>\r\n",
       ".dni-code-hint {\r\n",
       "    font-style: italic;\r\n",
       "    overflow: hidden;\r\n",
       "    white-space: nowrap;\r\n",
       "}\r\n",
       ".dni-treeview {\r\n",
       "    white-space: nowrap;\r\n",
       "}\r\n",
       ".dni-treeview td {\r\n",
       "    vertical-align: top;\r\n",
       "    text-align: start;\r\n",
       "}\r\n",
       "details.dni-treeview {\r\n",
       "    padding-left: 1em;\r\n",
       "}\r\n",
       "table td {\r\n",
       "    text-align: start;\r\n",
       "}\r\n",
       "table tr { \r\n",
       "    vertical-align: top; \r\n",
       "    margin: 0em 0px;\r\n",
       "}\r\n",
       "table tr td pre \r\n",
       "{ \r\n",
       "    vertical-align: top !important; \r\n",
       "    margin: 0em 0px !important;\r\n",
       "} \r\n",
       "table th {\r\n",
       "    text-align: start;\r\n",
       "}\r\n",
       "</style>"
      ]
     },
     "metadata": {},
     "output_type": "display_data"
    },
    {
     "data": {
      "text/html": [
       "<div class=\"dni-plaintext\"><pre>1</pre></div><style>\r\n",
       ".dni-code-hint {\r\n",
       "    font-style: italic;\r\n",
       "    overflow: hidden;\r\n",
       "    white-space: nowrap;\r\n",
       "}\r\n",
       ".dni-treeview {\r\n",
       "    white-space: nowrap;\r\n",
       "}\r\n",
       ".dni-treeview td {\r\n",
       "    vertical-align: top;\r\n",
       "    text-align: start;\r\n",
       "}\r\n",
       "details.dni-treeview {\r\n",
       "    padding-left: 1em;\r\n",
       "}\r\n",
       "table td {\r\n",
       "    text-align: start;\r\n",
       "}\r\n",
       "table tr { \r\n",
       "    vertical-align: top; \r\n",
       "    margin: 0em 0px;\r\n",
       "}\r\n",
       "table tr td pre \r\n",
       "{ \r\n",
       "    vertical-align: top !important; \r\n",
       "    margin: 0em 0px !important;\r\n",
       "} \r\n",
       "table th {\r\n",
       "    text-align: start;\r\n",
       "}\r\n",
       "</style>"
      ]
     },
     "metadata": {},
     "output_type": "display_data"
    },
    {
     "name": "stdout",
     "output_type": "stream",
     "text": [
      "2:2000\n",
      "1:4000\n"
     ]
    }
   ],
   "source": [
    "int value = 10 / 3;\n",
    "value.Display();\n",
    "\n",
    "int value01 = 10 % 3;\n",
    "value01.Display();\n",
    "\n",
    "object _obj = new object();\n",
    "\n",
    "int _int_value = 0;\n",
    "_ = Task.Run(() =>\n",
    "{\n",
    "    lock (new object())\n",
    "    {\n",
    "        for (int i = 0; i < 2000; i++) \n",
    "        { \n",
    "            _int_value++; \n",
    "        };\n",
    "        Console.WriteLine($\"1:{_int_value}\");\n",
    "    }\n",
    "});\n",
    "\n",
    "_ = Task.Run(() =>\n",
    "{\n",
    "    lock (new object())\n",
    "    {\n",
    "        for (int i = 0; i < 2000; i++) { _int_value++; };\n",
    "        Console.WriteLine($\"2:{_int_value}\");\n",
    "    }\n",
    "});"
   ]
  },
  {
   "cell_type": "code",
   "execution_count": null,
   "metadata": {},
   "outputs": [
    {
     "name": "stdout",
     "output_type": "stream",
     "text": [
      "10\n",
      "100\n",
      "1000\n",
      "10000\n",
      "100000\n",
      "1000000\n",
      "10000000\n",
      "100000000\n",
      "1000000000\n",
      "10000000000\n"
     ]
    }
   ],
   "source": [
    "int _index = 1;\n",
    "for(int i = 0; i < 10; i++)\n",
    "{\n",
    "    _index <<= 1;\n",
    "    Console.WriteLine($\"{_index:B}\");\n",
    "}"
   ]
  },
  {
   "cell_type": "code",
   "execution_count": null,
   "metadata": {},
   "outputs": [
    {
     "data": {
      "text/plain": [
       "empty"
      ]
     },
     "metadata": {},
     "output_type": "display_data"
    }
   ],
   "source": [
    "public void Function(string _message) => _message = \"Hello World\";\n",
    "\n",
    "string @string = \"empty\";\n",
    "Function(@string);\n",
    "@string.Display();"
   ]
  }
 ],
 "metadata": {
  "kernelspec": {
   "display_name": ".NET (C#)",
   "language": "C#",
   "name": ".net-csharp"
  },
  "polyglot_notebook": {
   "kernelInfo": {
    "defaultKernelName": "csharp",
    "items": [
     {
      "aliases": [],
      "languageName": "csharp",
      "name": "csharp"
     }
    ]
   }
  }
 },
 "nbformat": 4,
 "nbformat_minor": 2
}
