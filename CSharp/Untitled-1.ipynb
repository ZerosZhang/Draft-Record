{
 "cells": [
  {
   "cell_type": "code",
   "execution_count": null,
   "metadata": {
    "dotnet_interactive": {
     "language": "csharp"
    },
    "polyglot_notebook": {
     "kernelName": "csharp"
    }
   },
   "outputs": [],
   "source": [
    "ulong @ulong = (ulong)uint.MaxValue+1;\n",
    "uint @uint = (uint)@ulong;\n",
    "Console.WriteLine($\"{@ulong:b}\".Length);\n",
    "Console.WriteLine($\"{@uint:b}\");"
   ]
  },
  {
   "cell_type": "code",
   "execution_count": null,
   "metadata": {
    "dotnet_interactive": {
     "language": "csharp"
    },
    "polyglot_notebook": {
     "kernelName": "csharp"
    }
   },
   "outputs": [],
   "source": [
    "ulong @ulong = (ulong)long.MaxValue + 1;\n",
    "long @long = (long)@ulong;\n",
    "Console.WriteLine($\"{$\"{@ulong:b}\".Length}:{@ulong}\");\n",
    "Console.WriteLine($\"{$\"{@long:b}\".Length}:{@long}\");"
   ]
  },
  {
   "cell_type": "code",
   "execution_count": null,
   "metadata": {
    "dotnet_interactive": {
     "language": "csharp"
    },
    "polyglot_notebook": {
     "kernelName": "csharp"
    }
   },
   "outputs": [],
   "source": [
    "int value = 10;\n",
    "public void Add(int _value) => _value ++;\n",
    "Add(value);\n",
    "value.Display();"
   ]
  },
  {
   "cell_type": "code",
   "execution_count": null,
   "metadata": {
    "dotnet_interactive": {
     "language": "csharp"
    },
    "polyglot_notebook": {
     "kernelName": "csharp"
    }
   },
   "outputs": [],
   "source": [
    "(string _string1, string _string2) _tuple = (\"from string 1\", \"from string 2\");\n",
    "\n",
    "_tuple._string1 = \"Hello World\";\n",
    "_tuple.Display();\n",
    "_tuple._string1.Display();\n",
    "_tuple._string2.Display();"
   ]
  },
  {
   "cell_type": "code",
   "execution_count": null,
   "metadata": {
    "dotnet_interactive": {
     "language": "csharp"
    },
    "polyglot_notebook": {
     "kernelName": "csharp"
    }
   },
   "outputs": [],
   "source": [
    "(string _string1, string _string2) = (\"from string 1\", \"from string 2\");\n",
    "_string1.Display();\n",
    "_string2.Display();"
   ]
  },
  {
   "cell_type": "code",
   "execution_count": null,
   "metadata": {
    "dotnet_interactive": {
     "language": "csharp"
    },
    "polyglot_notebook": {
     "kernelName": "csharp"
    }
   },
   "outputs": [],
   "source": [
    "int value = 10 / 3;\n",
    "value.Display();\n",
    "\n",
    "int value01 = 10 % 3;\n",
    "value01.Display();\n",
    "\n",
    "object _obj = new object();\n",
    "\n",
    "int _int_value = 0;\n",
    "_ = Task.Run(() =>\n",
    "{\n",
    "    lock (new object())\n",
    "    {\n",
    "        for (int i = 0; i < 2000; i++) \n",
    "        { \n",
    "            _int_value++; \n",
    "        };\n",
    "        Console.WriteLine($\"1:{_int_value}\");\n",
    "    }\n",
    "});\n",
    "\n",
    "_ = Task.Run(() =>\n",
    "{\n",
    "    lock (new object())\n",
    "    {\n",
    "        for (int i = 0; i < 2000; i++) { _int_value++; };\n",
    "        Console.WriteLine($\"2:{_int_value}\");\n",
    "    }\n",
    "});"
   ]
  },
  {
   "cell_type": "code",
   "execution_count": null,
   "metadata": {
    "dotnet_interactive": {
     "language": "csharp"
    },
    "polyglot_notebook": {
     "kernelName": "csharp"
    }
   },
   "outputs": [],
   "source": [
    "int _index = 1;\n",
    "for(int i = 0; i < 10; i++)\n",
    "{\n",
    "    _index <<= 1;\n",
    "    Console.WriteLine($\"{_index:B}\");\n",
    "}"
   ]
  },
  {
   "cell_type": "code",
   "execution_count": null,
   "metadata": {
    "dotnet_interactive": {
     "language": "csharp"
    },
    "polyglot_notebook": {
     "kernelName": "csharp"
    }
   },
   "outputs": [],
   "source": [
    "public void Function(string _message) => _message = \"Hello World\";\n",
    "\n",
    "string @string = \"empty\";\n",
    "Function(@string);\n",
    "@string.Display();"
   ]
  },
  {
   "cell_type": "code",
   "execution_count": 23,
   "metadata": {
    "dotnet_interactive": {
     "language": "csharp"
    },
    "polyglot_notebook": {
     "kernelName": "csharp"
    }
   },
   "outputs": [
    {
     "name": "stdout",
     "output_type": "stream",
     "text": [
      "count = 14427\n",
      "count = 15790913\n",
      "count = 31729677\n",
      "count = 47635554\n",
      "count = 63453014\n",
      "count = 79166046\n",
      "count = 95005539\n",
      "count = 110614539\n",
      "Task Over on ContinueWith\n",
      "Catch Exception\n"
     ]
    }
   ],
   "source": [
    "\n",
    "using System.Threading;\n",
    "double _sum = 0;\n",
    "\n",
    "int _count = 0;\n",
    "bool _is_running = true;\n",
    "\n",
    "CancellationTokenSource _cts = new();\n",
    "\n",
    "try\n",
    "{\n",
    "    _ = Task.Run(()=>\n",
    "    {\n",
    "        while(_is_running) \n",
    "        { \n",
    "            Console.WriteLine($\"count = {_count}\");\n",
    "            if(_count > 1e8)\n",
    "            {\n",
    "                _cts.Cancel();\n",
    "                throw new InvalidOperationException();  \n",
    "            } \n",
    "            Task.Delay(100).Wait();\n",
    "        }\n",
    "\n",
    "        Console.WriteLine(\"Task Over\");\n",
    "    }).ContinueWith((_)=>\n",
    "    {\n",
    "        Console.WriteLine(\"Task Over on ContinueWith\");\n",
    "        throw new Exception();\n",
    "    }, TaskContinuationOptions.OnlyOnFaulted);\n",
    "\n",
    "    for(int i = 1; i < 1e9; i++)\n",
    "    {\n",
    "        _cts.Token.ThrowIfCancellationRequested();\n",
    "        _count ++;\n",
    "        _sum += (_sum / i + 1);\n",
    "    }\n",
    "    _is_running = false;\n",
    "\n",
    "    Console.WriteLine(_sum);\n",
    "}\n",
    "catch\n",
    "{\n",
    "    Console.WriteLine(\"Catch Exception\");\n",
    "}\n",
    "\n"
   ]
  },
  {
   "cell_type": "code",
   "execution_count": null,
   "metadata": {
    "dotnet_interactive": {
     "language": "csharp"
    },
    "polyglot_notebook": {
     "kernelName": "csharp"
    }
   },
   "outputs": [],
   "source": []
  }
 ],
 "metadata": {
  "kernelspec": {
   "display_name": ".NET (C#)",
   "language": "C#",
   "name": ".net-csharp"
  },
  "language_info": {
   "name": "polyglot-notebook"
  },
  "polyglot_notebook": {
   "kernelInfo": {
    "defaultKernelName": "csharp",
    "items": [
     {
      "aliases": [],
      "languageName": "csharp",
      "name": "csharp"
     }
    ]
   }
  }
 },
 "nbformat": 4,
 "nbformat_minor": 2
}
